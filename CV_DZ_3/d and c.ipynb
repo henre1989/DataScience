{
 "cells": [
  {
   "cell_type": "code",
   "execution_count": 1,
   "metadata": {
    "colab": {
     "base_uri": "https://localhost:8080/",
     "height": 80
    },
    "colab_type": "code",
    "executionInfo": {
     "elapsed": 3218,
     "status": "ok",
     "timestamp": 1575635581154,
     "user": {
      "displayName": "Виталий Петров",
      "photoUrl": "https://lh3.googleusercontent.com/a-/AAuE7mB7PehAbh83_ljFokWyRysl9EPzyhxk0CTziLs9=s64",
      "userId": "12889039604498682671"
     },
     "user_tz": -300
    },
    "id": "B7Cg7T4BrzP1",
    "outputId": "0fafaf40-1718-4cf3-ee9a-5b857f60b180"
   },
   "outputs": [],
   "source": [
    "import numpy as np # linear algebra\n",
    "import pandas as pd # data processing, CSV file I/O (e.g. pd.read_csv)\n",
    "from sklearn.model_selection import train_test_split\n",
    "import matplotlib.pyplot as plt\n",
    "import random\n",
    "import os\n"
   ]
  },
  {
   "cell_type": "markdown",
   "metadata": {},
   "source": [
    "### Подключаем plaidml для видеокарт AMD"
   ]
  },
  {
   "cell_type": "code",
   "execution_count": 2,
   "metadata": {},
   "outputs": [],
   "source": [
    "os.environ[\"KERAS_BACKEND\"] = \"plaidml.keras.backend\"\n",
    "import plaidml.keras\n",
    "plaidml.keras.install_backend()"
   ]
  },
  {
   "cell_type": "code",
   "execution_count": 3,
   "metadata": {},
   "outputs": [],
   "source": [
    "import keras\n",
    "import keras.applications as kapp\n"
   ]
  },
  {
   "cell_type": "code",
   "execution_count": 5,
   "metadata": {
    "colab": {
     "base_uri": "https://localhost:8080/",
     "height": 54
    },
    "colab_type": "code",
    "executionInfo": {
     "elapsed": 2304,
     "status": "ok",
     "timestamp": 1575635773378,
     "user": {
      "displayName": "Виталий Петров",
      "photoUrl": "https://lh3.googleusercontent.com/a-/AAuE7mB7PehAbh83_ljFokWyRysl9EPzyhxk0CTziLs9=s64",
      "userId": "12889039604498682671"
     },
     "user_tz": -300
    },
    "id": "Aaw90iVCsA_E",
    "outputId": "08235cdb-077a-48d1-b957-ff433e90abdf"
   },
   "outputs": [
    {
     "name": "stdout",
     "output_type": "stream",
     "text": [
      "['004-regression.ipynb', '006-dogs-vs-cats.ipynb', '007-detection (1).ipynb', '007-detection (2).ipynb', '007-detection.ipynb', '007.hdf5', '007new.hdf5', '007_3.hdf5', 'c-d-1.hdf5', 'cats-dogs-vgg16_2.hdf5', 'cats-dogs-vgg16_4.hdf5', 'cats-dogs-vgg16_5.hdf5', 'cats-dogs-vgg16_6.hdf5', 'cnn_predictions.csv', 'Copy of 006-dogs-vs-cats (1).ipynb', 'Copy of 006-dogs-vs-cats.ipynb', 'Copy of Untitled0 (1).ipynb', 'Copy of Untitled0.ipynb', 'd and c.ipynb', 'data', 'sample_submission_stg1.csv', 'submit2.txt', 'submit3.txt', 'submit4.txt', 'submit5.txt', 'submit6.txt', 'test', 'test_stg1', 'train', 'Untitled0.ipynb']\n"
     ]
    }
   ],
   "source": [
    "print(os.listdir(\"C:/Users/admin/Google Диск/Colab Notebooks/\"))"
   ]
  },
  {
   "cell_type": "code",
   "execution_count": 6,
   "metadata": {
    "colab": {
     "base_uri": "https://localhost:8080/",
     "height": 34
    },
    "colab_type": "code",
    "executionInfo": {
     "elapsed": 4011,
     "status": "ok",
     "timestamp": 1575635780126,
     "user": {
      "displayName": "Виталий Петров",
      "photoUrl": "https://lh3.googleusercontent.com/a-/AAuE7mB7PehAbh83_ljFokWyRysl9EPzyhxk0CTziLs9=s64",
      "userId": "12889039604498682671"
     },
     "user_tz": -300
    },
    "id": "l6D79mOysv3F",
    "outputId": "9c69eb47-d1df-400e-ebdf-326470391b70"
   },
   "outputs": [
    {
     "name": "stdout",
     "output_type": "stream",
     "text": [
      "25000\n"
     ]
    }
   ],
   "source": [
    "filenames = os.listdir(\"C:/Users/admin/Google Диск/Colab Notebooks/train\")\n",
    "print(len(filenames))"
   ]
  },
  {
   "cell_type": "markdown",
   "metadata": {},
   "source": [
    "#### Создаем датафрейм с данныеми"
   ]
  },
  {
   "cell_type": "code",
   "execution_count": 7,
   "metadata": {
    "colab": {
     "base_uri": "https://localhost:8080/",
     "height": 204
    },
    "colab_type": "code",
    "executionInfo": {
     "elapsed": 1153,
     "status": "ok",
     "timestamp": 1575635784735,
     "user": {
      "displayName": "Виталий Петров",
      "photoUrl": "https://lh3.googleusercontent.com/a-/AAuE7mB7PehAbh83_ljFokWyRysl9EPzyhxk0CTziLs9=s64",
      "userId": "12889039604498682671"
     },
     "user_tz": -300
    },
    "id": "N5phc7-ZsBIy",
    "outputId": "ecc30501-0136-4988-8d94-6df59674dc15"
   },
   "outputs": [
    {
     "data": {
      "text/html": [
       "<div>\n",
       "<style scoped>\n",
       "    .dataframe tbody tr th:only-of-type {\n",
       "        vertical-align: middle;\n",
       "    }\n",
       "\n",
       "    .dataframe tbody tr th {\n",
       "        vertical-align: top;\n",
       "    }\n",
       "\n",
       "    .dataframe thead th {\n",
       "        text-align: right;\n",
       "    }\n",
       "</style>\n",
       "<table border=\"1\" class=\"dataframe\">\n",
       "  <thead>\n",
       "    <tr style=\"text-align: right;\">\n",
       "      <th></th>\n",
       "      <th>filename</th>\n",
       "      <th>category</th>\n",
       "    </tr>\n",
       "  </thead>\n",
       "  <tbody>\n",
       "    <tr>\n",
       "      <th>0</th>\n",
       "      <td>cat.0.jpg</td>\n",
       "      <td>0</td>\n",
       "    </tr>\n",
       "    <tr>\n",
       "      <th>1</th>\n",
       "      <td>cat.1.jpg</td>\n",
       "      <td>0</td>\n",
       "    </tr>\n",
       "    <tr>\n",
       "      <th>2</th>\n",
       "      <td>cat.10.jpg</td>\n",
       "      <td>0</td>\n",
       "    </tr>\n",
       "    <tr>\n",
       "      <th>3</th>\n",
       "      <td>cat.100.jpg</td>\n",
       "      <td>0</td>\n",
       "    </tr>\n",
       "    <tr>\n",
       "      <th>4</th>\n",
       "      <td>cat.1000.jpg</td>\n",
       "      <td>0</td>\n",
       "    </tr>\n",
       "  </tbody>\n",
       "</table>\n",
       "</div>"
      ],
      "text/plain": [
       "       filename category\n",
       "0     cat.0.jpg        0\n",
       "1     cat.1.jpg        0\n",
       "2    cat.10.jpg        0\n",
       "3   cat.100.jpg        0\n",
       "4  cat.1000.jpg        0"
      ]
     },
     "execution_count": 7,
     "metadata": {},
     "output_type": "execute_result"
    }
   ],
   "source": [
    "\n",
    "categories = []\n",
    "for filename in filenames:\n",
    "    category = filename.split('.')[0]\n",
    "    if category == 'dog':\n",
    "        categories.append(\"1\")\n",
    "    else:\n",
    "        categories.append(\"0\")\n",
    "\n",
    "df = pd.DataFrame({\n",
    "    'filename': filenames,\n",
    "    'category': categories\n",
    "})\n",
    "df.head()"
   ]
  },
  {
   "cell_type": "code",
   "execution_count": 8,
   "metadata": {
    "colab": {},
    "colab_type": "code",
    "id": "qWWBSz_YsXVR"
   },
   "outputs": [],
   "source": [
    "from keras.models import Sequential\n",
    "from keras import layers\n",
    "from keras.layers import Conv2D, MaxPooling2D, Dropout, Flatten, Dense, Activation,GlobalMaxPooling2D\n",
    "from keras import applications\n",
    "from keras.preprocessing.image import ImageDataGenerator\n",
    "from keras import optimizers\n",
    "#from keras.applications import VGG16\n",
    "from keras.models import Model\n"
   ]
  },
  {
   "cell_type": "markdown",
   "metadata": {},
   "source": [
    "### Подключаем VGG16 предобученую на imagenet"
   ]
  },
  {
   "cell_type": "code",
   "execution_count": 21,
   "metadata": {
    "colab": {
     "base_uri": "https://localhost:8080/",
     "height": 391
    },
    "colab_type": "code",
    "executionInfo": {
     "elapsed": 9011,
     "status": "ok",
     "timestamp": 1575635797498,
     "user": {
      "displayName": "Виталий Петров",
      "photoUrl": "https://lh3.googleusercontent.com/a-/AAuE7mB7PehAbh83_ljFokWyRysl9EPzyhxk0CTziLs9=s64",
      "userId": "12889039604498682671"
     },
     "user_tz": -300
    },
    "id": "8bALcIYisjSN",
    "outputId": "aa73db45-1b7c-46a8-ea71-6c89aa4a95e9"
   },
   "outputs": [],
   "source": [
    "image_size = 224\n",
    "input_shape = (image_size, image_size, 3)\n",
    "\n",
    "epochs = 5\n",
    "batch_size = 16\n",
    "\n",
    "pre_trained_model = kapp.VGG16(input_shape=input_shape, include_top=False, weights=\"imagenet\")"
   ]
  },
  {
   "cell_type": "code",
   "execution_count": 22,
   "metadata": {
    "colab": {},
    "colab_type": "code",
    "id": "D2Vkbkuru42n"
   },
   "outputs": [],
   "source": [
    "for layer in pre_trained_model.layers[:15]:\n",
    "    layer.trainable = False\n",
    "\n",
    "for layer in pre_trained_model.layers[15:]:\n",
    "    layer.trainable = True\n",
    "    \n",
    "last_layer = pre_trained_model.get_layer('block5_pool')\n",
    "last_output = last_layer.output\n",
    "    "
   ]
  },
  {
   "cell_type": "markdown",
   "metadata": {},
   "source": [
    "### Добовляем слои"
   ]
  },
  {
   "cell_type": "code",
   "execution_count": 23,
   "metadata": {
    "colab": {
     "base_uri": "https://localhost:8080/",
     "height": 1000
    },
    "colab_type": "code",
    "executionInfo": {
     "elapsed": 1984,
     "status": "ok",
     "timestamp": 1575635797501,
     "user": {
      "displayName": "Виталий Петров",
      "photoUrl": "https://lh3.googleusercontent.com/a-/AAuE7mB7PehAbh83_ljFokWyRysl9EPzyhxk0CTziLs9=s64",
      "userId": "12889039604498682671"
     },
     "user_tz": -300
    },
    "id": "HHT3AJlxuwpC",
    "outputId": "85640ff7-504c-47a5-e588-22a54c41d3e9"
   },
   "outputs": [
    {
     "name": "stdout",
     "output_type": "stream",
     "text": [
      "_________________________________________________________________\n",
      "Layer (type)                 Output Shape              Param #   \n",
      "=================================================================\n",
      "input_5 (InputLayer)         (None, 224, 224, 3)       0         \n",
      "_________________________________________________________________\n",
      "block1_conv1 (Conv2D)        (None, 224, 224, 64)      1792      \n",
      "_________________________________________________________________\n",
      "block1_conv2 (Conv2D)        (None, 224, 224, 64)      36928     \n",
      "_________________________________________________________________\n",
      "block1_pool (MaxPooling2D)   (None, 112, 112, 64)      0         \n",
      "_________________________________________________________________\n",
      "block2_conv1 (Conv2D)        (None, 112, 112, 128)     73856     \n",
      "_________________________________________________________________\n",
      "block2_conv2 (Conv2D)        (None, 112, 112, 128)     147584    \n",
      "_________________________________________________________________\n",
      "block2_pool (MaxPooling2D)   (None, 56, 56, 128)       0         \n",
      "_________________________________________________________________\n",
      "block3_conv1 (Conv2D)        (None, 56, 56, 256)       295168    \n",
      "_________________________________________________________________\n",
      "block3_conv2 (Conv2D)        (None, 56, 56, 256)       590080    \n",
      "_________________________________________________________________\n",
      "block3_conv3 (Conv2D)        (None, 56, 56, 256)       590080    \n",
      "_________________________________________________________________\n",
      "block3_pool (MaxPooling2D)   (None, 28, 28, 256)       0         \n",
      "_________________________________________________________________\n",
      "block4_conv1 (Conv2D)        (None, 28, 28, 512)       1180160   \n",
      "_________________________________________________________________\n",
      "block4_conv2 (Conv2D)        (None, 28, 28, 512)       2359808   \n",
      "_________________________________________________________________\n",
      "block4_conv3 (Conv2D)        (None, 28, 28, 512)       2359808   \n",
      "_________________________________________________________________\n",
      "block4_pool (MaxPooling2D)   (None, 14, 14, 512)       0         \n",
      "_________________________________________________________________\n",
      "block5_conv1 (Conv2D)        (None, 14, 14, 512)       2359808   \n",
      "_________________________________________________________________\n",
      "block5_conv2 (Conv2D)        (None, 14, 14, 512)       2359808   \n",
      "_________________________________________________________________\n",
      "block5_conv3 (Conv2D)        (None, 14, 14, 512)       2359808   \n",
      "_________________________________________________________________\n",
      "block5_pool (MaxPooling2D)   (None, 7, 7, 512)         0         \n",
      "_________________________________________________________________\n",
      "global_max_pooling2d_2 (Glob (None, 512)               0         \n",
      "_________________________________________________________________\n",
      "dense_3 (Dense)              (None, 512)               262656    \n",
      "_________________________________________________________________\n",
      "dropout_2 (Dropout)          (None, 512)               0         \n",
      "_________________________________________________________________\n",
      "dense_4 (Dense)              (None, 1)                 513       \n",
      "=================================================================\n",
      "Total params: 14,977,857\n",
      "Trainable params: 7,342,593\n",
      "Non-trainable params: 7,635,264\n",
      "_________________________________________________________________\n"
     ]
    }
   ],
   "source": [
    "# Flatten the output layer to 1 dimension\n",
    "x = GlobalMaxPooling2D()(last_output)\n",
    "# Add a fully connected layer with 512 hidden units and ReLU activation\n",
    "x = Dense(512, activation='relu')(x)\n",
    "# Add a dropout rate of 0.5\n",
    "x = Dropout(0.5)(x)\n",
    "# Add a final sigmoid layer for classification\n",
    "x = layers.Dense(1, activation='sigmoid')(x)\n",
    "\n",
    "model = Model(pre_trained_model.input, x)\n",
    "\n",
    "model.compile(loss='binary_crossentropy',\n",
    "              optimizer=optimizers.SGD(lr=1e-4, momentum=0.9),\n",
    "              metrics=['accuracy'])\n",
    "\n",
    "model.summary()"
   ]
  },
  {
   "cell_type": "markdown",
   "metadata": {},
   "source": [
    "### Делим выборку"
   ]
  },
  {
   "cell_type": "code",
   "execution_count": 24,
   "metadata": {
    "colab": {},
    "colab_type": "code",
    "id": "7Hk6pzm_u1jD"
   },
   "outputs": [],
   "source": [
    "train_df, validate_df = train_test_split(df, test_size=0.1)\n",
    "train_df = train_df.reset_index()\n",
    "validate_df = validate_df.reset_index()\n",
    "\n",
    "# validate_df = validate_df.sample(n=100).reset_index() # use for fast testing code purpose\n",
    "# train_df = train_df.sample(n=1800).reset_index() # use for fast testing code purpose\n",
    "\n",
    "total_train = train_df.shape[0]\n",
    "total_validate = validate_df.shape[0]"
   ]
  },
  {
   "cell_type": "markdown",
   "metadata": {},
   "source": [
    "### Создаем генераторы"
   ]
  },
  {
   "cell_type": "code",
   "execution_count": 25,
   "metadata": {
    "colab": {},
    "colab_type": "code",
    "id": "CarXyMGnvBti"
   },
   "outputs": [],
   "source": [
    "train_datagen = ImageDataGenerator(\n",
    "    rotation_range=15,\n",
    "    rescale=1./255,\n",
    "    shear_range=0.2,\n",
    "    zoom_range=0.2,\n",
    "    horizontal_flip=True,\n",
    "    fill_mode='nearest',\n",
    "    width_shift_range=0.1,\n",
    "    height_shift_range=0.1\n",
    ")\n",
    "\n"
   ]
  },
  {
   "cell_type": "markdown",
   "metadata": {},
   "source": [
    "### Генеротор обучающей выборки"
   ]
  },
  {
   "cell_type": "code",
   "execution_count": 26,
   "metadata": {
    "colab": {
     "base_uri": "https://localhost:8080/",
     "height": 34
    },
    "colab_type": "code",
    "executionInfo": {
     "elapsed": 41183,
     "status": "ok",
     "timestamp": 1575635850473,
     "user": {
      "displayName": "Виталий Петров",
      "photoUrl": "https://lh3.googleusercontent.com/a-/AAuE7mB7PehAbh83_ljFokWyRysl9EPzyhxk0CTziLs9=s64",
      "userId": "12889039604498682671"
     },
     "user_tz": -300
    },
    "id": "mjzdIng5vb_3",
    "outputId": "35eac94a-0a88-49c1-d733-5c236f65b713"
   },
   "outputs": [
    {
     "name": "stdout",
     "output_type": "stream",
     "text": [
      "Found 22500 validated image filenames belonging to 2 classes.\n"
     ]
    }
   ],
   "source": [
    "train_generator = train_datagen.flow_from_dataframe(\n",
    "    train_df, \n",
    "    \"C:/Users/admin/Google Диск/Colab Notebooks/train/\",\n",
    "    x_col=\"filename\",\n",
    "    y_col=\"category\",\n",
    "    class_mode='binary',\n",
    "    target_size=(image_size, image_size),\n",
    "    batch_size=batch_size\n",
    "    )"
   ]
  },
  {
   "cell_type": "markdown",
   "metadata": {},
   "source": [
    "### Генеротор валидационной выборки"
   ]
  },
  {
   "cell_type": "code",
   "execution_count": 27,
   "metadata": {
    "colab": {
     "base_uri": "https://localhost:8080/",
     "height": 34
    },
    "colab_type": "code",
    "executionInfo": {
     "elapsed": 41120,
     "status": "ok",
     "timestamp": 1575635854928,
     "user": {
      "displayName": "Виталий Петров",
      "photoUrl": "https://lh3.googleusercontent.com/a-/AAuE7mB7PehAbh83_ljFokWyRysl9EPzyhxk0CTziLs9=s64",
      "userId": "12889039604498682671"
     },
     "user_tz": -300
    },
    "id": "yDh-cW-EvDi6",
    "outputId": "1308c20b-3f1a-4dc2-8da1-6bce09c1f9e2"
   },
   "outputs": [
    {
     "name": "stdout",
     "output_type": "stream",
     "text": [
      "Found 2500 validated image filenames belonging to 2 classes.\n"
     ]
    }
   ],
   "source": [
    "validation_datagen = ImageDataGenerator(rescale=1./255)\n",
    "validation_generator = validation_datagen.flow_from_dataframe(\n",
    "    validate_df, \n",
    "    \"C:/Users/admin/Google Диск/Colab Notebooks/train/\", \n",
    "    x_col='filename',\n",
    "    y_col='category',\n",
    "    class_mode='binary',\n",
    "    target_size=(image_size, image_size),\n",
    "    batch_size=batch_size\n",
    ")"
   ]
  },
  {
   "cell_type": "markdown",
   "metadata": {},
   "source": [
    "### Обучаем модель"
   ]
  },
  {
   "cell_type": "code",
   "execution_count": 28,
   "metadata": {
    "colab": {
     "base_uri": "https://localhost:8080/",
     "height": 207
    },
    "colab_type": "code",
    "id": "9hXm54EYv36T",
    "outputId": "27bcc8e2-64fc-4839-ea7b-6db0bfe77bc6"
   },
   "outputs": [
    {
     "name": "stdout",
     "output_type": "stream",
     "text": [
      "Epoch 1/5\n",
      "1406/1406 [==============================] - 692s 492ms/step - loss: 0.2938 - acc: 0.8653 - val_loss: 0.1304 - val_acc: 0.9431\n",
      "Epoch 2/5\n",
      "1406/1406 [==============================] - 722s 514ms/step - loss: 0.1522 - acc: 0.9393 - val_loss: 0.1022 - val_acc: 0.9577\n",
      "Epoch 3/5\n",
      "1406/1406 [==============================] - 726s 516ms/step - loss: 0.1269 - acc: 0.9483 - val_loss: 0.1021 - val_acc: 0.9610\n",
      "Epoch 4/5\n",
      "1406/1406 [==============================] - 727s 517ms/step - loss: 0.1086 - acc: 0.9566 - val_loss: 0.1090 - val_acc: 0.9553\n",
      "Epoch 5/5\n",
      "1406/1406 [==============================] - 724s 515ms/step - loss: 0.0998 - acc: 0.9613 - val_loss: 0.0822 - val_acc: 0.9678\n"
     ]
    }
   ],
   "source": [
    "history = model.fit_generator(\n",
    "    train_generator,\n",
    "    epochs=epochs,\n",
    "    validation_data=validation_generator,\n",
    "    validation_steps=total_validate//batch_size,\n",
    "    steps_per_epoch=total_train//batch_size)"
   ]
  },
  {
   "cell_type": "code",
   "execution_count": 34,
   "metadata": {},
   "outputs": [
    {
     "name": "stdout",
     "output_type": "stream",
     "text": [
      "Test: accuracy = 0.967147  ;  loss = 0.083347 \n"
     ]
    }
   ],
   "source": [
    "loss, accuracy = model.evaluate_generator(validation_generator, total_validate//batch_size, workers=12)\n",
    "print(\"Test: accuracy = %f  ;  loss = %f \" % (accuracy, loss))"
   ]
  },
  {
   "cell_type": "code",
   "execution_count": 29,
   "metadata": {
    "colab": {},
    "colab_type": "code",
    "id": "g97y5y5swRus"
   },
   "outputs": [],
   "source": [
    "model.save('C:/Users/admin/Google Диск/Colab Notebooks/c-d-2.hdf5')"
   ]
  },
  {
   "cell_type": "markdown",
   "metadata": {},
   "source": [
    "### Создаем датафрейм тестовых данных"
   ]
  },
  {
   "cell_type": "code",
   "execution_count": 30,
   "metadata": {
    "colab": {},
    "colab_type": "code",
    "id": "krdzIxAPzJgV"
   },
   "outputs": [],
   "source": [
    "test_filenames = os.listdir(\"C:/Users/admin/Google Диск/Colab Notebooks/test\")\n",
    "test_df = pd.DataFrame({\n",
    "    'filename': test_filenames\n",
    "})\n",
    "nb_samples = test_df.shape[0]"
   ]
  },
  {
   "cell_type": "markdown",
   "metadata": {},
   "source": [
    "### Генератор тестовых данных"
   ]
  },
  {
   "cell_type": "code",
   "execution_count": 31,
   "metadata": {
    "colab": {},
    "colab_type": "code",
    "id": "msMfO7LMz3zQ"
   },
   "outputs": [
    {
     "name": "stdout",
     "output_type": "stream",
     "text": [
      "Found 12500 validated image filenames.\n"
     ]
    }
   ],
   "source": [
    "test_gen = ImageDataGenerator(rescale=1./255)\n",
    "test_generator = test_gen.flow_from_dataframe(\n",
    "    test_df, \n",
    "    \"C:/Users/admin/Google Диск/Colab Notebooks/test/\", \n",
    "    x_col='filename',\n",
    "    y_col=None,\n",
    "    class_mode=None,\n",
    "    batch_size=batch_size,\n",
    "    target_size=(image_size, image_size),\n",
    "    shuffle=False\n",
    ")"
   ]
  },
  {
   "cell_type": "markdown",
   "metadata": {},
   "source": [
    "### Предсказание"
   ]
  },
  {
   "cell_type": "code",
   "execution_count": 32,
   "metadata": {
    "colab": {},
    "colab_type": "code",
    "id": "CxHI0oOGz_F-"
   },
   "outputs": [],
   "source": [
    "predict = model.predict_generator(test_generator, steps=np.ceil(nb_samples/batch_size))\n",
    "threshold = 0.5\n",
    "test_df['category'] = np.where(predict > threshold, 1,0)"
   ]
  },
  {
   "cell_type": "markdown",
   "metadata": {},
   "source": [
    "### Записываем в самбит"
   ]
  },
  {
   "cell_type": "code",
   "execution_count": 33,
   "metadata": {
    "colab": {},
    "colab_type": "code",
    "id": "QD93lGaT0BqW"
   },
   "outputs": [],
   "source": [
    "submission_df = test_df.copy()\n",
    "submission_df['id'] = submission_df['filename'].str.split('.').str[0]\n",
    "submission_df['label'] = submission_df['category']\n",
    "submission_df.drop(['filename', 'category'], axis=1, inplace=True)\n",
    "submission_df.to_csv('C:/Users/admin/Google Диск/Colab Notebooks/submission.csv', index=False)"
   ]
  },
  {
   "cell_type": "code",
   "execution_count": null,
   "metadata": {
    "colab": {},
    "colab_type": "code",
    "id": "Yz79IJzG1Wgx"
   },
   "outputs": [],
   "source": []
  }
 ],
 "metadata": {
  "accelerator": "GPU",
  "colab": {
   "collapsed_sections": [],
   "name": "d and c.ipynb",
   "provenance": []
  },
  "kernelspec": {
   "display_name": "Python 3",
   "language": "python",
   "name": "python3"
  },
  "language_info": {
   "codemirror_mode": {
    "name": "ipython",
    "version": 3
   },
   "file_extension": ".py",
   "mimetype": "text/x-python",
   "name": "python",
   "nbconvert_exporter": "python",
   "pygments_lexer": "ipython3",
   "version": "3.7.3"
  }
 },
 "nbformat": 4,
 "nbformat_minor": 1
}

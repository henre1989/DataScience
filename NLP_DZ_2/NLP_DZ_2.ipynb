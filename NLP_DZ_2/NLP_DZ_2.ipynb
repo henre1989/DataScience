{
 "cells": [
  {
   "cell_type": "code",
   "execution_count": 0,
   "metadata": {
    "colab": {},
    "colab_type": "code",
    "id": "UjdVEHFQDn7c"
   },
   "outputs": [],
   "source": [
    "! pip install pymorphy2\n"
   ]
  },
  {
   "cell_type": "code",
   "execution_count": 0,
   "metadata": {
    "colab": {},
    "colab_type": "code",
    "id": "IibsatHR3Vb7"
   },
   "outputs": [],
   "source": [
    "import bz2\n",
    "from tqdm import tqdm\n",
    "import json\n",
    "import pandas as pd\n",
    "import numpy as np\n",
    "import nltk\n",
    "from gensim.models import word2vec\n",
    "from sklearn.model_selection import train_test_split\n",
    "import pymorphy2\n",
    "from functools import lru_cache\n",
    "from multiprocessing import Pool\n",
    "from tqdm import tqdm_notebook as tqdm\n",
    "import re"
   ]
  },
  {
   "cell_type": "code",
   "execution_count": 2,
   "metadata": {
    "colab": {
     "base_uri": "https://localhost:8080/",
     "height": 128
    },
    "colab_type": "code",
    "executionInfo": {
     "elapsed": 20216,
     "status": "ok",
     "timestamp": 1577263935901,
     "user": {
      "displayName": "Виталий Петров",
      "photoUrl": "https://lh3.googleusercontent.com/a-/AAuE7mB7PehAbh83_ljFokWyRysl9EPzyhxk0CTziLs9=s64",
      "userId": "12889039604498682671"
     },
     "user_tz": -300
    },
    "id": "lLBsgB_rDp6L",
    "outputId": "5cbcd7fc-fb0e-4c9f-e8d8-9064127f8468"
   },
   "outputs": [
    {
     "name": "stdout",
     "output_type": "stream",
     "text": [
      "Go to this URL in a browser: https://accounts.google.com/o/oauth2/auth?client_id=947318989803-6bn6qk8qdgf4n4g3pfee6491hc0brc4i.apps.googleusercontent.com&redirect_uri=urn%3aietf%3awg%3aoauth%3a2.0%3aoob&response_type=code&scope=email%20https%3a%2f%2fwww.googleapis.com%2fauth%2fdocs.test%20https%3a%2f%2fwww.googleapis.com%2fauth%2fdrive%20https%3a%2f%2fwww.googleapis.com%2fauth%2fdrive.photos.readonly%20https%3a%2f%2fwww.googleapis.com%2fauth%2fpeopleapi.readonly\n",
      "\n",
      "Enter your authorization code:\n",
      "··········\n",
      "Mounted at /content/drive\n"
     ]
    }
   ],
   "source": [
    "from google.colab import drive\n",
    "drive.mount('/content/drive')"
   ]
  },
  {
   "cell_type": "code",
   "execution_count": 3,
   "metadata": {
    "colab": {
     "base_uri": "https://localhost:8080/",
     "height": 35
    },
    "colab_type": "code",
    "executionInfo": {
     "elapsed": 83249,
     "status": "ok",
     "timestamp": 1577264020570,
     "user": {
      "displayName": "Виталий Петров",
      "photoUrl": "https://lh3.googleusercontent.com/a-/AAuE7mB7PehAbh83_ljFokWyRysl9EPzyhxk0CTziLs9=s64",
      "userId": "12889039604498682671"
     },
     "user_tz": -300
    },
    "id": "WwaA3DQdDn7f",
    "outputId": "ed8bb5ec-84a2-4c20-865d-70483d8fb090"
   },
   "outputs": [
    {
     "name": "stderr",
     "output_type": "stream",
     "text": [
      "201030it [01:22, 2427.18it/s]\n"
     ]
    }
   ],
   "source": [
    "responses = []\n",
    "with bz2.BZ2File('/content/drive/My Drive/Colab Notebooks/banki_responses.json.bz2', 'r') as thefile:\n",
    "    for row in tqdm(thefile):\n",
    "        resp = json.loads(row)\n",
    "        if not resp['rating_not_checked'] and (len(resp['text'].split()) > 0):\n",
    "            responses.append(resp)"
   ]
  },
  {
   "cell_type": "code",
   "execution_count": 0,
   "metadata": {
    "colab": {},
    "colab_type": "code",
    "id": "x74C3R7F3fHq"
   },
   "outputs": [],
   "source": [
    "# Созданим датаферейм из отзывово с 1 и 5 оценками"
   ]
  },
  {
   "cell_type": "code",
   "execution_count": 0,
   "metadata": {
    "colab": {},
    "colab_type": "code",
    "id": "m_DNPOgMDn7i"
   },
   "outputs": [],
   "source": [
    "rating=[]\n",
    "title=[]\n",
    "text_ds=[]"
   ]
  },
  {
   "cell_type": "code",
   "execution_count": 0,
   "metadata": {
    "colab": {},
    "colab_type": "code",
    "id": "-XpLHV4vDn7k"
   },
   "outputs": [],
   "source": [
    "for respons in responses:\n",
    "    if respons['rating_grade']==5:\n",
    "        text_ds.append(respons['text'])\n",
    "        rating.append(5)\n",
    "        title.append(respons['title'])\n",
    "        \n",
    "    elif respons['rating_grade']==1:\n",
    "        text_ds.append(respons['text'])\n",
    "        rating.append(1)\n",
    "        title.append(respons['title'])\n",
    "        "
   ]
  },
  {
   "cell_type": "code",
   "execution_count": 0,
   "metadata": {
    "colab": {},
    "colab_type": "code",
    "id": "TdkaBgvIDn7m"
   },
   "outputs": [],
   "source": [
    "df=pd.DataFrame({'text': text_ds,\n",
    "                'title': title,\n",
    "                'rating':rating})"
   ]
  },
  {
   "cell_type": "code",
   "execution_count": 7,
   "metadata": {
    "colab": {
     "base_uri": "https://localhost:8080/",
     "height": 198
    },
    "colab_type": "code",
    "executionInfo": {
     "elapsed": 77926,
     "status": "ok",
     "timestamp": 1577264020842,
     "user": {
      "displayName": "Виталий Петров",
      "photoUrl": "https://lh3.googleusercontent.com/a-/AAuE7mB7PehAbh83_ljFokWyRysl9EPzyhxk0CTziLs9=s64",
      "userId": "12889039604498682671"
     },
     "user_tz": -300
    },
    "id": "dDOhl8AyDn7o",
    "outputId": "555f38cf-f1e1-4efd-e08d-99fb1567ce4e"
   },
   "outputs": [
    {
     "data": {
      "text/html": [
       "<div>\n",
       "<style scoped>\n",
       "    .dataframe tbody tr th:only-of-type {\n",
       "        vertical-align: middle;\n",
       "    }\n",
       "\n",
       "    .dataframe tbody tr th {\n",
       "        vertical-align: top;\n",
       "    }\n",
       "\n",
       "    .dataframe thead th {\n",
       "        text-align: right;\n",
       "    }\n",
       "</style>\n",
       "<table border=\"1\" class=\"dataframe\">\n",
       "  <thead>\n",
       "    <tr style=\"text-align: right;\">\n",
       "      <th></th>\n",
       "      <th>text</th>\n",
       "      <th>title</th>\n",
       "      <th>rating</th>\n",
       "    </tr>\n",
       "  </thead>\n",
       "  <tbody>\n",
       "    <tr>\n",
       "      <th>0</th>\n",
       "      <td>Открыт вклад и счет в USD. Плюс к этому есть з...</td>\n",
       "      <td>Некомпетентность сотрудников банка</td>\n",
       "      <td>1</td>\n",
       "    </tr>\n",
       "    <tr>\n",
       "      <th>1</th>\n",
       "      <td>Доброго времени! Вчера мне поступило смс-уведо...</td>\n",
       "      <td>Навязывание страховки</td>\n",
       "      <td>1</td>\n",
       "    </tr>\n",
       "    <tr>\n",
       "      <th>2</th>\n",
       "      <td>05.06.2015г. около 15 часов, пришел в указанны...</td>\n",
       "      <td>Нарушение договора банковского вклада</td>\n",
       "      <td>1</td>\n",
       "    </tr>\n",
       "    <tr>\n",
       "      <th>3</th>\n",
       "      <td>Для оплаты коммунальных платежей пользуюсь пла...</td>\n",
       "      <td>Невозможно оплатить отчисления на капремонт \"Т...</td>\n",
       "      <td>1</td>\n",
       "    </tr>\n",
       "    <tr>\n",
       "      <th>4</th>\n",
       "      <td>В апреле этого года пришла в отделение сбербан...</td>\n",
       "      <td>Некомпетентность сотрудника Сбербанка при пров...</td>\n",
       "      <td>1</td>\n",
       "    </tr>\n",
       "  </tbody>\n",
       "</table>\n",
       "</div>"
      ],
      "text/plain": [
       "                                                text  ... rating\n",
       "0  Открыт вклад и счет в USD. Плюс к этому есть з...  ...      1\n",
       "1  Доброго времени! Вчера мне поступило смс-уведо...  ...      1\n",
       "2  05.06.2015г. около 15 часов, пришел в указанны...  ...      1\n",
       "3  Для оплаты коммунальных платежей пользуюсь пла...  ...      1\n",
       "4  В апреле этого года пришла в отделение сбербан...  ...      1\n",
       "\n",
       "[5 rows x 3 columns]"
      ]
     },
     "execution_count": 7,
     "metadata": {
      "tags": []
     },
     "output_type": "execute_result"
    }
   ],
   "source": [
    "df.head()"
   ]
  },
  {
   "cell_type": "code",
   "execution_count": 8,
   "metadata": {
    "colab": {
     "base_uri": "https://localhost:8080/",
     "height": 35
    },
    "colab_type": "code",
    "executionInfo": {
     "elapsed": 76961,
     "status": "ok",
     "timestamp": 1577264020843,
     "user": {
      "displayName": "Виталий Петров",
      "photoUrl": "https://lh3.googleusercontent.com/a-/AAuE7mB7PehAbh83_ljFokWyRysl9EPzyhxk0CTziLs9=s64",
      "userId": "12889039604498682671"
     },
     "user_tz": -300
    },
    "id": "7XX6BWiYDn7q",
    "outputId": "09138442-8535-4e51-94be-44bf318ad5f0"
   },
   "outputs": [
    {
     "data": {
      "text/plain": [
       "(62100, 3)"
      ]
     },
     "execution_count": 8,
     "metadata": {
      "tags": []
     },
     "output_type": "execute_result"
    }
   ],
   "source": [
    "df.shape"
   ]
  },
  {
   "cell_type": "code",
   "execution_count": 0,
   "metadata": {
    "colab": {},
    "colab_type": "code",
    "id": "K_U_iocP3ss1"
   },
   "outputs": [],
   "source": [
    "# Обработка текста"
   ]
  },
  {
   "cell_type": "code",
   "execution_count": 9,
   "metadata": {
    "colab": {
     "base_uri": "https://localhost:8080/",
     "height": 72
    },
    "colab_type": "code",
    "executionInfo": {
     "elapsed": 75171,
     "status": "ok",
     "timestamp": 1577264021391,
     "user": {
      "displayName": "Виталий Петров",
      "photoUrl": "https://lh3.googleusercontent.com/a-/AAuE7mB7PehAbh83_ljFokWyRysl9EPzyhxk0CTziLs9=s64",
      "userId": "12889039604498682671"
     },
     "user_tz": -300
    },
    "id": "xV8BUykfDn7s",
    "outputId": "9bbca072-ac91-43e1-8ae7-ec27fd7f5715"
   },
   "outputs": [
    {
     "name": "stdout",
     "output_type": "stream",
     "text": [
      "[nltk_data] Downloading package punkt to /root/nltk_data...\n",
      "[nltk_data]   Unzipping tokenizers/punkt.zip.\n"
     ]
    },
    {
     "data": {
      "text/plain": [
       "True"
      ]
     },
     "execution_count": 9,
     "metadata": {
      "tags": []
     },
     "output_type": "execute_result"
    }
   ],
   "source": [
    "from nltk.tokenize import sent_tokenize\n",
    "from nltk.tokenize import word_tokenize\n",
    "nltk.download('punkt')"
   ]
  },
  {
   "cell_type": "code",
   "execution_count": 10,
   "metadata": {
    "colab": {
     "base_uri": "https://localhost:8080/",
     "height": 217
    },
    "colab_type": "code",
    "executionInfo": {
     "elapsed": 78312,
     "status": "ok",
     "timestamp": 1577264026542,
     "user": {
      "displayName": "Виталий Петров",
      "photoUrl": "https://lh3.googleusercontent.com/a-/AAuE7mB7PehAbh83_ljFokWyRysl9EPzyhxk0CTziLs9=s64",
      "userId": "12889039604498682671"
     },
     "user_tz": -300
    },
    "id": "X7faBPGvI4Cc",
    "outputId": "9b7e6e43-7da6-4b77-f2dc-3730feff9b09"
   },
   "outputs": [
    {
     "name": "stdout",
     "output_type": "stream",
     "text": [
      "Collecting pymorphy2\n",
      "\u001b[?25l  Downloading https://files.pythonhosted.org/packages/a3/33/fff9675c68b5f6c63ec8c6e6ff57827dda28a1fa5b2c2d727dffff92dd47/pymorphy2-0.8-py2.py3-none-any.whl (46kB)\n",
      "\u001b[K     |████████████████████████████████| 51kB 2.6MB/s \n",
      "\u001b[?25hCollecting pymorphy2-dicts<3.0,>=2.4\n",
      "\u001b[?25l  Downloading https://files.pythonhosted.org/packages/02/51/2465fd4f72328ab50877b54777764d928da8cb15b74e2680fc1bd8cb3173/pymorphy2_dicts-2.4.393442.3710985-py2.py3-none-any.whl (7.1MB)\n",
      "\u001b[K     |████████████████████████████████| 7.1MB 8.8MB/s \n",
      "\u001b[?25hRequirement already satisfied: docopt>=0.6 in /usr/local/lib/python3.6/dist-packages (from pymorphy2) (0.6.2)\n",
      "Collecting dawg-python>=0.7\n",
      "  Downloading https://files.pythonhosted.org/packages/6a/84/ff1ce2071d4c650ec85745766c0047ccc3b5036f1d03559fd46bb38b5eeb/DAWG_Python-0.7.2-py2.py3-none-any.whl\n",
      "Installing collected packages: pymorphy2-dicts, dawg-python, pymorphy2\n",
      "Successfully installed dawg-python-0.7.2 pymorphy2-0.8 pymorphy2-dicts-2.4.393442.3710985\n"
     ]
    }
   ],
   "source": []
  },
  {
   "cell_type": "code",
   "execution_count": 0,
   "metadata": {
    "colab": {},
    "colab_type": "code",
    "id": "ZYKiMiTdIweJ"
   },
   "outputs": [],
   "source": [
    "m = pymorphy2.MorphAnalyzer()\n"
   ]
  },
  {
   "cell_type": "code",
   "execution_count": 12,
   "metadata": {
    "colab": {
     "base_uri": "https://localhost:8080/",
     "height": 72
    },
    "colab_type": "code",
    "executionInfo": {
     "elapsed": 73125,
     "status": "ok",
     "timestamp": 1577264026544,
     "user": {
      "displayName": "Виталий Петров",
      "photoUrl": "https://lh3.googleusercontent.com/a-/AAuE7mB7PehAbh83_ljFokWyRysl9EPzyhxk0CTziLs9=s64",
      "userId": "12889039604498682671"
     },
     "user_tz": -300
    },
    "id": "SultvlMFJZYQ",
    "outputId": "717b8c01-3e65-43e5-85d4-65d1d7d89ee0"
   },
   "outputs": [
    {
     "name": "stdout",
     "output_type": "stream",
     "text": [
      "[nltk_data] Downloading package stopwords to /root/nltk_data...\n",
      "[nltk_data]   Unzipping corpora/stopwords.zip.\n"
     ]
    },
    {
     "data": {
      "text/plain": [
       "True"
      ]
     },
     "execution_count": 12,
     "metadata": {
      "tags": []
     },
     "output_type": "execute_result"
    }
   ],
   "source": [
    "nltk.download('stopwords')"
   ]
  },
  {
   "cell_type": "code",
   "execution_count": 0,
   "metadata": {
    "colab": {},
    "colab_type": "code",
    "id": "_9ShriZGI_W3"
   },
   "outputs": [],
   "source": [
    "def lemmatize(text, pymorphy=m):\n",
    "    worlds=[]\n",
    "    for w in text:\n",
    "      worlds.append(pymorphy.parse(w)[0].normal_form)\n",
    "    return worlds\n",
    "    "
   ]
  },
  {
   "cell_type": "code",
   "execution_count": 0,
   "metadata": {
    "colab": {},
    "colab_type": "code",
    "id": "tEv6RgcCDn7t"
   },
   "outputs": [],
   "source": [
    "def review_to_wordlist(review, remove_stopwords=False ):\n",
    "    # убираем ссылки вне тегов\n",
    "    review = re.sub(r\"http[s]?://(?:[a-zA-Z]|[0-9]|[$-_@.&+]|[!*\\(\\),]|(?:%[0-9a-fA-F][0-9a-fA-F]))+\", \" \", review)\n",
    "    review_text = re.sub(\"[^а-яА-Я]\",\" \", review)\n",
    "    words = review_text.lower().split()\n",
    "    if remove_stopwords:\n",
    "        stops = stopwords.words('russian')\n",
    "        words = [w for w in words if not w in stops]\n",
    "    return(words)\n",
    "    \n",
    "\n",
    "def review_to_sentences(review, remove_stopwords=False):\n",
    "    raw_sentences = sent_tokenize(review.strip())\n",
    "    sentences = []\n",
    "    for raw_sentence in raw_sentences:\n",
    "        if len(raw_sentence) > 0:\n",
    "            sentences.append(lemmatize(review_to_wordlist(raw_sentence, remove_stopwords)))\n",
    "    return sentences\n",
    "\n"
   ]
  },
  {
   "cell_type": "code",
   "execution_count": 62,
   "metadata": {
    "colab": {
     "base_uri": "https://localhost:8080/",
     "height": 35
    },
    "colab_type": "code",
    "executionInfo": {
     "elapsed": 770,
     "status": "ok",
     "timestamp": 1577265092188,
     "user": {
      "displayName": "Виталий Петров",
      "photoUrl": "https://lh3.googleusercontent.com/a-/AAuE7mB7PehAbh83_ljFokWyRysl9EPzyhxk0CTziLs9=s64",
      "userId": "12889039604498682671"
     },
     "user_tz": -300
    },
    "id": "FduTm35_QlYF",
    "outputId": "48f28f4b-133e-45e4-e70d-d9511112059b"
   },
   "outputs": [
    {
     "data": {
      "text/plain": [
       "62100"
      ]
     },
     "execution_count": 62,
     "metadata": {
      "tags": []
     },
     "output_type": "execute_result"
    }
   ],
   "source": [
    "len(df.text)"
   ]
  },
  {
   "cell_type": "code",
   "execution_count": 65,
   "metadata": {
    "colab": {
     "base_uri": "https://localhost:8080/",
     "height": 1000
    },
    "colab_type": "code",
    "executionInfo": {
     "elapsed": 2770929,
     "status": "ok",
     "timestamp": 1577268190937,
     "user": {
      "displayName": "Виталий Петров",
      "photoUrl": "https://lh3.googleusercontent.com/a-/AAuE7mB7PehAbh83_ljFokWyRysl9EPzyhxk0CTziLs9=s64",
      "userId": "12889039604498682671"
     },
     "user_tz": -300
    },
    "id": "xrhYayVWQixa",
    "outputId": "c0ecc596-f32e-4eef-d4ed-0e49e17490f3"
   },
   "outputs": [
    {
     "name": "stdout",
     "output_type": "stream",
     "text": [
      "Processed 0 of 62100\n",
      "Processed 1000 of 62100\n",
      "Processed 2000 of 62100\n",
      "Processed 3000 of 62100\n",
      "Processed 4000 of 62100\n",
      "Processed 5000 of 62100\n",
      "Processed 6000 of 62100\n",
      "Processed 7000 of 62100\n",
      "Processed 8000 of 62100\n",
      "Processed 9000 of 62100\n",
      "Processed 10000 of 62100\n",
      "Processed 11000 of 62100\n",
      "Processed 12000 of 62100\n",
      "Processed 13000 of 62100\n",
      "Processed 14000 of 62100\n",
      "Processed 15000 of 62100\n",
      "Processed 16000 of 62100\n",
      "Processed 17000 of 62100\n",
      "Processed 18000 of 62100\n",
      "Processed 19000 of 62100\n",
      "Processed 20000 of 62100\n",
      "Processed 21000 of 62100\n",
      "Processed 22000 of 62100\n",
      "Processed 23000 of 62100\n",
      "Processed 24000 of 62100\n",
      "Processed 25000 of 62100\n",
      "Processed 26000 of 62100\n",
      "Processed 27000 of 62100\n",
      "Processed 28000 of 62100\n",
      "Processed 29000 of 62100\n",
      "Processed 30000 of 62100\n",
      "Processed 31000 of 62100\n",
      "Processed 32000 of 62100\n",
      "Processed 33000 of 62100\n",
      "Processed 34000 of 62100\n",
      "Processed 35000 of 62100\n",
      "Processed 36000 of 62100\n",
      "Processed 37000 of 62100\n",
      "Processed 38000 of 62100\n",
      "Processed 39000 of 62100\n",
      "Processed 40000 of 62100\n",
      "Processed 41000 of 62100\n",
      "Processed 42000 of 62100\n",
      "Processed 43000 of 62100\n",
      "Processed 44000 of 62100\n",
      "Processed 45000 of 62100\n",
      "Processed 46000 of 62100\n",
      "Processed 47000 of 62100\n",
      "Processed 48000 of 62100\n",
      "Processed 49000 of 62100\n",
      "Processed 50000 of 62100\n",
      "Processed 51000 of 62100\n",
      "Processed 52000 of 62100\n",
      "Processed 53000 of 62100\n",
      "Processed 54000 of 62100\n",
      "Processed 55000 of 62100\n",
      "Processed 56000 of 62100\n",
      "Processed 57000 of 62100\n",
      "Processed 58000 of 62100\n",
      "Processed 59000 of 62100\n",
      "Processed 60000 of 62100\n",
      "Processed 61000 of 62100\n",
      "Processed 62000 of 62100\n",
      "CPU times: user 45min 57s, sys: 10.1 s, total: 46min 7s\n",
      "Wall time: 46min 9s\n"
     ]
    }
   ],
   "source": [
    "%%time\n",
    "corpus_sentences = []\n",
    "i=0\n",
    "for text in df.text:\n",
    "    if i%1000 == 0: print('Processed {} of {}'.format(i, len(df.text)))\n",
    "    i+=1\n",
    "    if type(text) == float:\n",
    "        continue\n",
    "    sentences = review_to_sentences(text)\n",
    "    corpus_sentences += sentences"
   ]
  },
  {
   "cell_type": "code",
   "execution_count": 79,
   "metadata": {
    "colab": {
     "base_uri": "https://localhost:8080/",
     "height": 417
    },
    "colab_type": "code",
    "executionInfo": {
     "elapsed": 612,
     "status": "ok",
     "timestamp": 1577269228797,
     "user": {
      "displayName": "Виталий Петров",
      "photoUrl": "https://lh3.googleusercontent.com/a-/AAuE7mB7PehAbh83_ljFokWyRysl9EPzyhxk0CTziLs9=s64",
      "userId": "12889039604498682671"
     },
     "user_tz": -300
    },
    "id": "SlgnpGUTQ8wx",
    "outputId": "175304d5-88f1-4a8f-c02a-9ccba27e43b2"
   },
   "outputs": [
    {
     "data": {
      "text/plain": [
       "['далее',\n",
       " 'после',\n",
       " 'долгий',\n",
       " 'около',\n",
       " 'два',\n",
       " 'часы',\n",
       " 'выяснение',\n",
       " 'отношение',\n",
       " 'с',\n",
       " 'операционист',\n",
       " 'и',\n",
       " 'видимо',\n",
       " 'она',\n",
       " 'начальник',\n",
       " 'они',\n",
       " 'попытка',\n",
       " 'отменить',\n",
       " 'один',\n",
       " 'транзакция',\n",
       " 'и',\n",
       " 'том',\n",
       " 'далее']"
      ]
     },
     "execution_count": 79,
     "metadata": {
      "tags": []
     },
     "output_type": "execute_result"
    }
   ],
   "source": [
    "corpus_sentences[10]"
   ]
  },
  {
   "cell_type": "code",
   "execution_count": 0,
   "metadata": {
    "colab": {},
    "colab_type": "code",
    "id": "DOXgCO5uiuf4"
   },
   "outputs": [],
   "source": [
    "# status = open('/content/drive/My Drive/Colab Notebooks/corpus_sentences.txt','w', encoding='utf-8')\n",
    "# status.write(corpus_sentences)\n",
    "# status.close()\n",
    "with open('/content/drive/My Drive/Colab Notebooks/corpus_sentences.txt', 'w', encoding='utf-8') as f:\n",
    "    for item in corpus_sentences:\n",
    "        f.write(\"%s\\n\" % item)"
   ]
  },
  {
   "cell_type": "code",
   "execution_count": 67,
   "metadata": {
    "colab": {
     "base_uri": "https://localhost:8080/",
     "height": 35
    },
    "colab_type": "code",
    "executionInfo": {
     "elapsed": 650,
     "status": "ok",
     "timestamp": 1577268199835,
     "user": {
      "displayName": "Виталий Петров",
      "photoUrl": "https://lh3.googleusercontent.com/a-/AAuE7mB7PehAbh83_ljFokWyRysl9EPzyhxk0CTziLs9=s64",
      "userId": "12889039604498682671"
     },
     "user_tz": -300
    },
    "id": "d-lDwGBADn7v",
    "outputId": "704403fd-0753-4b5d-cc69-f7384a4fb123"
   },
   "outputs": [
    {
     "data": {
      "text/plain": [
       "1197275"
      ]
     },
     "execution_count": 67,
     "metadata": {
      "tags": []
     },
     "output_type": "execute_result"
    }
   ],
   "source": [
    "len(corpus_sentences)"
   ]
  },
  {
   "cell_type": "code",
   "execution_count": 0,
   "metadata": {
    "colab": {},
    "colab_type": "code",
    "id": "wplX3GUB4FzH"
   },
   "outputs": [],
   "source": [
    "#Обучаем и сохроняем модель"
   ]
  },
  {
   "cell_type": "code",
   "execution_count": 0,
   "metadata": {
    "colab": {},
    "colab_type": "code",
    "id": "FBckyzYoDn7x"
   },
   "outputs": [],
   "source": [
    "model_df = word2vec.Word2Vec(corpus_sentences, workers=6, size=300, min_count=3, window=5, sample=1e-3)"
   ]
  },
  {
   "cell_type": "code",
   "execution_count": 69,
   "metadata": {
    "colab": {
     "base_uri": "https://localhost:8080/",
     "height": 74
    },
    "colab_type": "code",
    "executionInfo": {
     "elapsed": 133855,
     "status": "ok",
     "timestamp": 1577268357415,
     "user": {
      "displayName": "Виталий Петров",
      "photoUrl": "https://lh3.googleusercontent.com/a-/AAuE7mB7PehAbh83_ljFokWyRysl9EPzyhxk0CTziLs9=s64",
      "userId": "12889039604498682671"
     },
     "user_tz": -300
    },
    "id": "VvkDeCqEIIly",
    "outputId": "be6c2e49-255a-4d8a-df7f-a1cfae4aef5a"
   },
   "outputs": [
    {
     "name": "stderr",
     "output_type": "stream",
     "text": [
      "/usr/local/lib/python3.6/dist-packages/smart_open/smart_open_lib.py:402: UserWarning: This function is deprecated, use smart_open.open instead. See the migration notes for details: https://github.com/RaRe-Technologies/smart_open/blob/master/README.rst#migrating-to-the-new-open-function\n",
      "  'See the migration notes for details: %s' % _MIGRATION_NOTES_URL\n"
     ]
    }
   ],
   "source": [
    "model_df.save('/content/drive/My Drive/Colab Notebooks/model_df')"
   ]
  },
  {
   "cell_type": "code",
   "execution_count": 70,
   "metadata": {
    "colab": {
     "base_uri": "https://localhost:8080/",
     "height": 35
    },
    "colab_type": "code",
    "executionInfo": {
     "elapsed": 659,
     "status": "ok",
     "timestamp": 1577268628513,
     "user": {
      "displayName": "Виталий Петров",
      "photoUrl": "https://lh3.googleusercontent.com/a-/AAuE7mB7PehAbh83_ljFokWyRysl9EPzyhxk0CTziLs9=s64",
      "userId": "12889039604498682671"
     },
     "user_tz": -300
    },
    "id": "O72UOLxWMmuP",
    "outputId": "347e540b-33ed-4141-eee9-eedd6ab2657f"
   },
   "outputs": [
    {
     "name": "stdout",
     "output_type": "stream",
     "text": [
      "31239\n"
     ]
    }
   ],
   "source": [
    "print(len(model_df.wv.vocab))"
   ]
  },
  {
   "cell_type": "code",
   "execution_count": 0,
   "metadata": {
    "colab": {},
    "colab_type": "code",
    "id": "eoZkwbhh5eAl"
   },
   "outputs": [],
   "source": [
    "# тест на аналогии"
   ]
  },
  {
   "cell_type": "code",
   "execution_count": 172,
   "metadata": {
    "colab": {
     "base_uri": "https://localhost:8080/",
     "height": 92
    },
    "colab_type": "code",
    "executionInfo": {
     "elapsed": 1304,
     "status": "ok",
     "timestamp": 1577274776488,
     "user": {
      "displayName": "Виталий Петров",
      "photoUrl": "https://lh3.googleusercontent.com/a-/AAuE7mB7PehAbh83_ljFokWyRysl9EPzyhxk0CTziLs9=s64",
      "userId": "12889039604498682671"
     },
     "user_tz": -300
    },
    "id": "zJb2PRbwTOj-",
    "outputId": "2e188852-a445-4c45-e398-dd2b8dd8097c"
   },
   "outputs": [
    {
     "name": "stdout",
     "output_type": "stream",
     "text": [
      "[('вкладчик', 0.4370534121990204)]\n"
     ]
    },
    {
     "name": "stderr",
     "output_type": "stream",
     "text": [
      "/usr/local/lib/python3.6/dist-packages/gensim/matutils.py:737: FutureWarning: Conversion of the second argument of issubdtype from `int` to `np.signedinteger` is deprecated. In future, it will be treated as `np.int64 == np.dtype(int).type`.\n",
      "  if np.issubdtype(vec.dtype, np.int):\n"
     ]
    }
   ],
   "source": [
    "print(model_df.wv.most_similar(positive=[\"счёт\", \"клиент\"], negative=[\"время\"], topn=1))"
   ]
  },
  {
   "cell_type": "code",
   "execution_count": 0,
   "metadata": {
    "colab": {},
    "colab_type": "code",
    "id": "q31LYELw4RWm"
   },
   "outputs": [],
   "source": [
    "# тест на определение ближайших слов"
   ]
  },
  {
   "cell_type": "code",
   "execution_count": 78,
   "metadata": {
    "colab": {
     "base_uri": "https://localhost:8080/",
     "height": 92
    },
    "colab_type": "code",
    "executionInfo": {
     "elapsed": 646,
     "status": "ok",
     "timestamp": 1577269190934,
     "user": {
      "displayName": "Виталий Петров",
      "photoUrl": "https://lh3.googleusercontent.com/a-/AAuE7mB7PehAbh83_ljFokWyRysl9EPzyhxk0CTziLs9=s64",
      "userId": "12889039604498682671"
     },
     "user_tz": -300
    },
    "id": "W78xwVLlMmnL",
    "outputId": "c27fa929-0441-4ec5-a98d-f90c955ddf17"
   },
   "outputs": [
    {
     "name": "stdout",
     "output_type": "stream",
     "text": [
      "[('картсчёт', 0.7556276917457581), ('сч', 0.7494080066680908), ('скс', 0.6314352750778198), ('сберкнижка', 0.6093786358833313), ('депозит', 0.5608007907867432), ('карта', 0.5233497619628906), ('кошелёк', 0.5000457763671875), ('карточка', 0.49727413058280945), ('рублёвый', 0.4960053563117981), ('вклад', 0.4945300817489624)]\n"
     ]
    },
    {
     "name": "stderr",
     "output_type": "stream",
     "text": [
      "/usr/local/lib/python3.6/dist-packages/gensim/matutils.py:737: FutureWarning: Conversion of the second argument of issubdtype from `int` to `np.signedinteger` is deprecated. In future, it will be treated as `np.int64 == np.dtype(int).type`.\n",
      "  if np.issubdtype(vec.dtype, np.int):\n"
     ]
    }
   ],
   "source": [
    "print(model_df.wv.most_similar(\"счёт\", topn=10))"
   ]
  },
  {
   "cell_type": "code",
   "execution_count": 0,
   "metadata": {
    "colab": {},
    "colab_type": "code",
    "id": "m55rrlCW4XiJ"
   },
   "outputs": [],
   "source": [
    "# тест на определение лишнего слова"
   ]
  },
  {
   "cell_type": "code",
   "execution_count": 84,
   "metadata": {
    "colab": {
     "base_uri": "https://localhost:8080/",
     "height": 128
    },
    "colab_type": "code",
    "executionInfo": {
     "elapsed": 636,
     "status": "ok",
     "timestamp": 1577269293671,
     "user": {
      "displayName": "Виталий Петров",
      "photoUrl": "https://lh3.googleusercontent.com/a-/AAuE7mB7PehAbh83_ljFokWyRysl9EPzyhxk0CTziLs9=s64",
      "userId": "12889039604498682671"
     },
     "user_tz": -300
    },
    "id": "97UO9-SKMSYe",
    "outputId": "3c3e073e-1f6a-42b0-8531-2d75347bb631"
   },
   "outputs": [
    {
     "name": "stdout",
     "output_type": "stream",
     "text": [
      "начальник\n"
     ]
    },
    {
     "name": "stderr",
     "output_type": "stream",
     "text": [
      "/usr/local/lib/python3.6/dist-packages/gensim/models/keyedvectors.py:895: FutureWarning: arrays to stack must be passed as a \"sequence\" type such as list or tuple. Support for non-sequence iterables such as generators is deprecated as of NumPy 1.16 and will raise an error in the future.\n",
      "  vectors = vstack(self.word_vec(word, use_norm=True) for word in used_words).astype(REAL)\n",
      "/usr/local/lib/python3.6/dist-packages/gensim/matutils.py:737: FutureWarning: Conversion of the second argument of issubdtype from `int` to `np.signedinteger` is deprecated. In future, it will be treated as `np.int64 == np.dtype(int).type`.\n",
      "  if np.issubdtype(vec.dtype, np.int):\n"
     ]
    }
   ],
   "source": [
    "print(model_df.wv.doesnt_match(\"начальник карта банк\".split()))"
   ]
  },
  {
   "cell_type": "code",
   "execution_count": 0,
   "metadata": {
    "colab": {},
    "colab_type": "code",
    "id": "40-AOQdR55PU"
   },
   "outputs": [],
   "source": [
    "# TSNE для наглядного предславления на плоскости"
   ]
  },
  {
   "cell_type": "code",
   "execution_count": 0,
   "metadata": {
    "colab": {},
    "colab_type": "code",
    "id": "SMvdsHWwl2vW"
   },
   "outputs": [],
   "source": [
    "from nltk import FreqDist\n",
    "from tqdm import tqdm_notebook as tqdm\n",
    "from sklearn.manifold import TSNE\n",
    "\n",
    "top_words = []\n",
    "\n"
   ]
  },
  {
   "cell_type": "code",
   "execution_count": 88,
   "metadata": {
    "colab": {
     "base_uri": "https://localhost:8080/",
     "height": 142,
     "referenced_widgets": [
      "012dbb9c39294bbd88a3668ec3924fca",
      "1a5166f5a97046d7aa1a9faa99bcd5ef",
      "a1ea29ab63994fcca4645b00e193a5cb",
      "598be623779b4141ae7cb705d7555122",
      "f843ea11409d49718871b3c4b274a98b",
      "d0989d5365074a989cb0c8ce81906e65",
      "5a91afdc37d24332908b46bab882f312",
      "84161ca2683f43a0944268b5fc8d5588"
     ]
    },
    "colab_type": "code",
    "executionInfo": {
     "elapsed": 14663,
     "status": "ok",
     "timestamp": 1577269681467,
     "user": {
      "displayName": "Виталий Петров",
      "photoUrl": "https://lh3.googleusercontent.com/a-/AAuE7mB7PehAbh83_ljFokWyRysl9EPzyhxk0CTziLs9=s64",
      "userId": "12889039604498682671"
     },
     "user_tz": -300
    },
    "id": "HSpsfufml2q-",
    "outputId": "aff67aa4-3b06-44bf-e06a-9ee75f96b7d6"
   },
   "outputs": [
    {
     "data": {
      "application/vnd.jupyter.widget-view+json": {
       "model_id": "012dbb9c39294bbd88a3668ec3924fca",
       "version_major": 2,
       "version_minor": 0
      },
      "text/plain": [
       "HBox(children=(IntProgress(value=0, max=1197275), HTML(value='')))"
      ]
     },
     "metadata": {
      "tags": []
     },
     "output_type": "display_data"
    },
    {
     "name": "stdout",
     "output_type": "stream",
     "text": [
      "\n",
      "['в', 'я', 'и', 'не', 'на', 'что', 'с', 'быть', 'банка', 'по', 'это', 'карта', 'банк', 'весь', 'а', 'мой', 'как', 'за', 'к', 'но', 'то', 'о', 'деньга', 'у', 'день', 'год', 'отделение', 'тот', 'который', 'кредит', 'так', 'сотрудник', 'они', 'вы', 'клиент', 'она', 'мочь', 'счёт', 'он', 'сказать', 'же', 'один', 'от', 'свой', 'для', 'через', 'уже', 'этот', 'заявление', 'из', 'такой', 'до', 'сумма', 'мы', 'раз', 'вопрос', 'время', 'рубль', 'том', 'ещё']\n"
     ]
    },
    {
     "name": "stderr",
     "output_type": "stream",
     "text": [
      "/usr/local/lib/python3.6/dist-packages/ipykernel_launcher.py:9: DeprecationWarning: Call to deprecated `__getitem__` (Method will be removed in 4.0.0, use self.wv.__getitem__() instead).\n",
      "  if __name__ == '__main__':\n"
     ]
    }
   ],
   "source": [
    "fd = FreqDist()\n",
    "for s in tqdm(corpus_sentences):\n",
    "    fd.update(s)\n",
    "\n",
    "for w in fd.most_common(200):\n",
    "    top_words.append(w[0])\n",
    "    \n",
    "print(top_words[:40:])\n",
    "top_words_vec = model_df[top_words]"
   ]
  },
  {
   "cell_type": "code",
   "execution_count": 0,
   "metadata": {
    "colab": {},
    "colab_type": "code",
    "id": "meL9FJJppWLE"
   },
   "outputs": [],
   "source": []
  },
  {
   "cell_type": "code",
   "execution_count": 102,
   "metadata": {
    "colab": {
     "base_uri": "https://localhost:8080/",
     "height": 54
    },
    "colab_type": "code",
    "executionInfo": {
     "elapsed": 571,
     "status": "ok",
     "timestamp": 1577270500484,
     "user": {
      "displayName": "Виталий Петров",
      "photoUrl": "https://lh3.googleusercontent.com/a-/AAuE7mB7PehAbh83_ljFokWyRysl9EPzyhxk0CTziLs9=s64",
      "userId": "12889039604498682671"
     },
     "user_tz": -300
    },
    "id": "fE6Xvtxyl2of",
    "outputId": "46b63e22-0004-489c-c69e-848612fedf1b"
   },
   "outputs": [
    {
     "name": "stderr",
     "output_type": "stream",
     "text": [
      "/usr/local/lib/python3.6/dist-packages/ipykernel_launcher.py:1: DeprecationWarning: Call to deprecated `__getitem__` (Method will be removed in 4.0.0, use self.wv.__getitem__() instead).\n",
      "  \"\"\"Entry point for launching an IPython kernel.\n"
     ]
    }
   ],
   "source": [
    "top_words_200=model_df[top_words][:200:]"
   ]
  },
  {
   "cell_type": "code",
   "execution_count": 115,
   "metadata": {
    "colab": {
     "base_uri": "https://localhost:8080/",
     "height": 54
    },
    "colab_type": "code",
    "executionInfo": {
     "elapsed": 1749,
     "status": "ok",
     "timestamp": 1577271241389,
     "user": {
      "displayName": "Виталий Петров",
      "photoUrl": "https://lh3.googleusercontent.com/a-/AAuE7mB7PehAbh83_ljFokWyRysl9EPzyhxk0CTziLs9=s64",
      "userId": "12889039604498682671"
     },
     "user_tz": -300
    },
    "id": "9G14EkGyl2i4",
    "outputId": "e5cea9d0-9e77-4da0-d81e-7f799c71008a"
   },
   "outputs": [
    {
     "name": "stdout",
     "output_type": "stream",
     "text": [
      "CPU times: user 954 ms, sys: 996 µs, total: 955 ms\n",
      "Wall time: 957 ms\n"
     ]
    }
   ],
   "source": [
    "%%time\n",
    "tsne = TSNE(n_components=2, random_state=0)\n",
    "top_words_tsne = tsne.fit_transform(top_words_200)"
   ]
  },
  {
   "cell_type": "code",
   "execution_count": 0,
   "metadata": {
    "colab": {},
    "colab_type": "code",
    "id": "zmbXQz_hxQK-"
   },
   "outputs": [],
   "source": []
  },
  {
   "cell_type": "code",
   "execution_count": 116,
   "metadata": {
    "colab": {
     "base_uri": "https://localhost:8080/",
     "height": 635
    },
    "colab_type": "code",
    "executionInfo": {
     "elapsed": 944,
     "status": "ok",
     "timestamp": 1577271241391,
     "user": {
      "displayName": "Виталий Петров",
      "photoUrl": "https://lh3.googleusercontent.com/a-/AAuE7mB7PehAbh83_ljFokWyRysl9EPzyhxk0CTziLs9=s64",
      "userId": "12889039604498682671"
     },
     "user_tz": -300
    },
    "id": "dbS5_fkpl2eJ",
    "outputId": "bf370c0a-f1bd-4145-ded8-91483fe26f97"
   },
   "outputs": [
    {
     "name": "stderr",
     "output_type": "stream",
     "text": [
      "BokehUserWarning: ColumnDataSource's columns must be of the same length. Current lengths: ('names', 400), ('x1', 200), ('x2', 200)\n"
     ]
    },
    {
     "data": {
      "application/javascript": [
       "\n",
       "(function(root) {\n",
       "  function now() {\n",
       "    return new Date();\n",
       "  }\n",
       "\n",
       "  var force = true;\n",
       "\n",
       "  if (typeof (root._bokeh_onload_callbacks) === \"undefined\" || force === true) {\n",
       "    root._bokeh_onload_callbacks = [];\n",
       "    root._bokeh_is_loading = undefined;\n",
       "  }\n",
       "\n",
       "  var JS_MIME_TYPE = 'application/javascript';\n",
       "  var HTML_MIME_TYPE = 'text/html';\n",
       "  var EXEC_MIME_TYPE = 'application/vnd.bokehjs_exec.v0+json';\n",
       "  var CLASS_NAME = 'output_bokeh rendered_html';\n",
       "\n",
       "  /**\n",
       "   * Render data to the DOM node\n",
       "   */\n",
       "  function render(props, node) {\n",
       "    var script = document.createElement(\"script\");\n",
       "    node.appendChild(script);\n",
       "  }\n",
       "\n",
       "  /**\n",
       "   * Handle when an output is cleared or removed\n",
       "   */\n",
       "  function handleClearOutput(event, handle) {\n",
       "    var cell = handle.cell;\n",
       "\n",
       "    var id = cell.output_area._bokeh_element_id;\n",
       "    var server_id = cell.output_area._bokeh_server_id;\n",
       "    // Clean up Bokeh references\n",
       "    if (id != null && id in Bokeh.index) {\n",
       "      Bokeh.index[id].model.document.clear();\n",
       "      delete Bokeh.index[id];\n",
       "    }\n",
       "\n",
       "    if (server_id !== undefined) {\n",
       "      // Clean up Bokeh references\n",
       "      var cmd = \"from bokeh.io.state import curstate; print(curstate().uuid_to_server['\" + server_id + \"'].get_sessions()[0].document.roots[0]._id)\";\n",
       "      cell.notebook.kernel.execute(cmd, {\n",
       "        iopub: {\n",
       "          output: function(msg) {\n",
       "            var id = msg.content.text.trim();\n",
       "            if (id in Bokeh.index) {\n",
       "              Bokeh.index[id].model.document.clear();\n",
       "              delete Bokeh.index[id];\n",
       "            }\n",
       "          }\n",
       "        }\n",
       "      });\n",
       "      // Destroy server and session\n",
       "      var cmd = \"import bokeh.io.notebook as ion; ion.destroy_server('\" + server_id + \"')\";\n",
       "      cell.notebook.kernel.execute(cmd);\n",
       "    }\n",
       "  }\n",
       "\n",
       "  /**\n",
       "   * Handle when a new output is added\n",
       "   */\n",
       "  function handleAddOutput(event, handle) {\n",
       "    var output_area = handle.output_area;\n",
       "    var output = handle.output;\n",
       "\n",
       "    // limit handleAddOutput to display_data with EXEC_MIME_TYPE content only\n",
       "    if ((output.output_type != \"display_data\") || (!output.data.hasOwnProperty(EXEC_MIME_TYPE))) {\n",
       "      return\n",
       "    }\n",
       "\n",
       "    var toinsert = output_area.element.find(\".\" + CLASS_NAME.split(' ')[0]);\n",
       "\n",
       "    if (output.metadata[EXEC_MIME_TYPE][\"id\"] !== undefined) {\n",
       "      toinsert[toinsert.length - 1].firstChild.textContent = output.data[JS_MIME_TYPE];\n",
       "      // store reference to embed id on output_area\n",
       "      output_area._bokeh_element_id = output.metadata[EXEC_MIME_TYPE][\"id\"];\n",
       "    }\n",
       "    if (output.metadata[EXEC_MIME_TYPE][\"server_id\"] !== undefined) {\n",
       "      var bk_div = document.createElement(\"div\");\n",
       "      bk_div.innerHTML = output.data[HTML_MIME_TYPE];\n",
       "      var script_attrs = bk_div.children[0].attributes;\n",
       "      for (var i = 0; i < script_attrs.length; i++) {\n",
       "        toinsert[toinsert.length - 1].firstChild.setAttribute(script_attrs[i].name, script_attrs[i].value);\n",
       "      }\n",
       "      // store reference to server id on output_area\n",
       "      output_area._bokeh_server_id = output.metadata[EXEC_MIME_TYPE][\"server_id\"];\n",
       "    }\n",
       "  }\n",
       "\n",
       "  function register_renderer(events, OutputArea) {\n",
       "\n",
       "    function append_mime(data, metadata, element) {\n",
       "      // create a DOM node to render to\n",
       "      var toinsert = this.create_output_subarea(\n",
       "        metadata,\n",
       "        CLASS_NAME,\n",
       "        EXEC_MIME_TYPE\n",
       "      );\n",
       "      this.keyboard_manager.register_events(toinsert);\n",
       "      // Render to node\n",
       "      var props = {data: data, metadata: metadata[EXEC_MIME_TYPE]};\n",
       "      render(props, toinsert[toinsert.length - 1]);\n",
       "      element.append(toinsert);\n",
       "      return toinsert\n",
       "    }\n",
       "\n",
       "    /* Handle when an output is cleared or removed */\n",
       "    events.on('clear_output.CodeCell', handleClearOutput);\n",
       "    events.on('delete.Cell', handleClearOutput);\n",
       "\n",
       "    /* Handle when a new output is added */\n",
       "    events.on('output_added.OutputArea', handleAddOutput);\n",
       "\n",
       "    /**\n",
       "     * Register the mime type and append_mime function with output_area\n",
       "     */\n",
       "    OutputArea.prototype.register_mime_type(EXEC_MIME_TYPE, append_mime, {\n",
       "      /* Is output safe? */\n",
       "      safe: true,\n",
       "      /* Index of renderer in `output_area.display_order` */\n",
       "      index: 0\n",
       "    });\n",
       "  }\n",
       "\n",
       "  // register the mime type if in Jupyter Notebook environment and previously unregistered\n",
       "  if (root.Jupyter !== undefined) {\n",
       "    var events = require('base/js/events');\n",
       "    var OutputArea = require('notebook/js/outputarea').OutputArea;\n",
       "\n",
       "    if (OutputArea.prototype.mime_types().indexOf(EXEC_MIME_TYPE) == -1) {\n",
       "      register_renderer(events, OutputArea);\n",
       "    }\n",
       "  }\n",
       "\n",
       "  \n",
       "  if (typeof (root._bokeh_timeout) === \"undefined\" || force === true) {\n",
       "    root._bokeh_timeout = Date.now() + 5000;\n",
       "    root._bokeh_failed_load = false;\n",
       "  }\n",
       "\n",
       "  var NB_LOAD_WARNING = {'data': {'text/html':\n",
       "     \"<div style='background-color: #fdd'>\\n\"+\n",
       "     \"<p>\\n\"+\n",
       "     \"BokehJS does not appear to have successfully loaded. If loading BokehJS from CDN, this \\n\"+\n",
       "     \"may be due to a slow or bad network connection. Possible fixes:\\n\"+\n",
       "     \"</p>\\n\"+\n",
       "     \"<ul>\\n\"+\n",
       "     \"<li>re-rerun `output_notebook()` to attempt to load from CDN again, or</li>\\n\"+\n",
       "     \"<li>use INLINE resources instead, as so:</li>\\n\"+\n",
       "     \"</ul>\\n\"+\n",
       "     \"<code>\\n\"+\n",
       "     \"from bokeh.resources import INLINE\\n\"+\n",
       "     \"output_notebook(resources=INLINE)\\n\"+\n",
       "     \"</code>\\n\"+\n",
       "     \"</div>\"}};\n",
       "\n",
       "  function display_loaded() {\n",
       "    var el = document.getElementById(null);\n",
       "    if (el != null) {\n",
       "      el.textContent = \"BokehJS is loading...\";\n",
       "    }\n",
       "    if (root.Bokeh !== undefined) {\n",
       "      if (el != null) {\n",
       "        el.textContent = \"BokehJS \" + root.Bokeh.version + \" successfully loaded.\";\n",
       "      }\n",
       "    } else if (Date.now() < root._bokeh_timeout) {\n",
       "      setTimeout(display_loaded, 100)\n",
       "    }\n",
       "  }\n",
       "\n",
       "\n",
       "  function run_callbacks() {\n",
       "    try {\n",
       "      root._bokeh_onload_callbacks.forEach(function(callback) { callback() });\n",
       "    }\n",
       "    finally {\n",
       "      delete root._bokeh_onload_callbacks\n",
       "    }\n",
       "    console.info(\"Bokeh: all callbacks have finished\");\n",
       "  }\n",
       "\n",
       "  function load_libs(js_urls, callback) {\n",
       "    root._bokeh_onload_callbacks.push(callback);\n",
       "    if (root._bokeh_is_loading > 0) {\n",
       "      console.log(\"Bokeh: BokehJS is being loaded, scheduling callback at\", now());\n",
       "      return null;\n",
       "    }\n",
       "    if (js_urls == null || js_urls.length === 0) {\n",
       "      run_callbacks();\n",
       "      return null;\n",
       "    }\n",
       "    console.log(\"Bokeh: BokehJS not loaded, scheduling load and callback at\", now());\n",
       "    root._bokeh_is_loading = js_urls.length;\n",
       "    for (var i = 0; i < js_urls.length; i++) {\n",
       "      var url = js_urls[i];\n",
       "      var s = document.createElement('script');\n",
       "      s.src = url;\n",
       "      s.async = false;\n",
       "      s.onreadystatechange = s.onload = function() {\n",
       "        root._bokeh_is_loading--;\n",
       "        if (root._bokeh_is_loading === 0) {\n",
       "          console.log(\"Bokeh: all BokehJS libraries loaded\");\n",
       "          run_callbacks()\n",
       "        }\n",
       "      };\n",
       "      s.onerror = function() {\n",
       "        console.warn(\"failed to load library \" + url);\n",
       "      };\n",
       "      console.log(\"Bokeh: injecting script tag for BokehJS library: \", url);\n",
       "      document.getElementsByTagName(\"head\")[0].appendChild(s);\n",
       "    }\n",
       "  };\n",
       "\n",
       "  var js_urls = [\"https://cdn.pydata.org/bokeh/release/bokeh-1.0.4.min.js\", \"https://cdn.pydata.org/bokeh/release/bokeh-widgets-1.0.4.min.js\", \"https://cdn.pydata.org/bokeh/release/bokeh-tables-1.0.4.min.js\", \"https://cdn.pydata.org/bokeh/release/bokeh-gl-1.0.4.min.js\"];\n",
       "\n",
       "  var inline_js = [\n",
       "    function(Bokeh) {\n",
       "      Bokeh.set_log_level(\"info\");\n",
       "    },\n",
       "    \n",
       "    function(Bokeh) {\n",
       "      \n",
       "    },\n",
       "    function(Bokeh) {\n",
       "      console.log(\"Bokeh: injecting CSS: https://cdn.pydata.org/bokeh/release/bokeh-1.0.4.min.css\");\n",
       "      Bokeh.embed.inject_css(\"https://cdn.pydata.org/bokeh/release/bokeh-1.0.4.min.css\");\n",
       "      console.log(\"Bokeh: injecting CSS: https://cdn.pydata.org/bokeh/release/bokeh-widgets-1.0.4.min.css\");\n",
       "      Bokeh.embed.inject_css(\"https://cdn.pydata.org/bokeh/release/bokeh-widgets-1.0.4.min.css\");\n",
       "      console.log(\"Bokeh: injecting CSS: https://cdn.pydata.org/bokeh/release/bokeh-tables-1.0.4.min.css\");\n",
       "      Bokeh.embed.inject_css(\"https://cdn.pydata.org/bokeh/release/bokeh-tables-1.0.4.min.css\");\n",
       "    }\n",
       "  ];\n",
       "\n",
       "  function run_inline_js() {\n",
       "    \n",
       "    if ((root.Bokeh !== undefined) || (force === true)) {\n",
       "      for (var i = 0; i < inline_js.length; i++) {\n",
       "        inline_js[i].call(root, root.Bokeh);\n",
       "      }} else if (Date.now() < root._bokeh_timeout) {\n",
       "      setTimeout(run_inline_js, 100);\n",
       "    } else if (!root._bokeh_failed_load) {\n",
       "      console.log(\"Bokeh: BokehJS failed to load within specified timeout.\");\n",
       "      root._bokeh_failed_load = true;\n",
       "    } else if (force !== true) {\n",
       "      var cell = $(document.getElementById(null)).parents('.cell').data().cell;\n",
       "      cell.output_area.append_execute_result(NB_LOAD_WARNING)\n",
       "    }\n",
       "\n",
       "  }\n",
       "\n",
       "  if (root._bokeh_is_loading === 0) {\n",
       "    console.log(\"Bokeh: BokehJS loaded, going straight to plotting\");\n",
       "    run_inline_js();\n",
       "  } else {\n",
       "    load_libs(js_urls, function() {\n",
       "      console.log(\"Bokeh: BokehJS plotting callback run at\", now());\n",
       "      run_inline_js();\n",
       "    });\n",
       "  }\n",
       "}(window));"
      ],
      "application/vnd.bokehjs_load.v0+json": "\n(function(root) {\n  function now() {\n    return new Date();\n  }\n\n  var force = true;\n\n  if (typeof (root._bokeh_onload_callbacks) === \"undefined\" || force === true) {\n    root._bokeh_onload_callbacks = [];\n    root._bokeh_is_loading = undefined;\n  }\n\n  \n\n  \n  if (typeof (root._bokeh_timeout) === \"undefined\" || force === true) {\n    root._bokeh_timeout = Date.now() + 5000;\n    root._bokeh_failed_load = false;\n  }\n\n  var NB_LOAD_WARNING = {'data': {'text/html':\n     \"<div style='background-color: #fdd'>\\n\"+\n     \"<p>\\n\"+\n     \"BokehJS does not appear to have successfully loaded. If loading BokehJS from CDN, this \\n\"+\n     \"may be due to a slow or bad network connection. Possible fixes:\\n\"+\n     \"</p>\\n\"+\n     \"<ul>\\n\"+\n     \"<li>re-rerun `output_notebook()` to attempt to load from CDN again, or</li>\\n\"+\n     \"<li>use INLINE resources instead, as so:</li>\\n\"+\n     \"</ul>\\n\"+\n     \"<code>\\n\"+\n     \"from bokeh.resources import INLINE\\n\"+\n     \"output_notebook(resources=INLINE)\\n\"+\n     \"</code>\\n\"+\n     \"</div>\"}};\n\n  function display_loaded() {\n    var el = document.getElementById(null);\n    if (el != null) {\n      el.textContent = \"BokehJS is loading...\";\n    }\n    if (root.Bokeh !== undefined) {\n      if (el != null) {\n        el.textContent = \"BokehJS \" + root.Bokeh.version + \" successfully loaded.\";\n      }\n    } else if (Date.now() < root._bokeh_timeout) {\n      setTimeout(display_loaded, 100)\n    }\n  }\n\n\n  function run_callbacks() {\n    try {\n      root._bokeh_onload_callbacks.forEach(function(callback) { callback() });\n    }\n    finally {\n      delete root._bokeh_onload_callbacks\n    }\n    console.info(\"Bokeh: all callbacks have finished\");\n  }\n\n  function load_libs(js_urls, callback) {\n    root._bokeh_onload_callbacks.push(callback);\n    if (root._bokeh_is_loading > 0) {\n      console.log(\"Bokeh: BokehJS is being loaded, scheduling callback at\", now());\n      return null;\n    }\n    if (js_urls == null || js_urls.length === 0) {\n      run_callbacks();\n      return null;\n    }\n    console.log(\"Bokeh: BokehJS not loaded, scheduling load and callback at\", now());\n    root._bokeh_is_loading = js_urls.length;\n    for (var i = 0; i < js_urls.length; i++) {\n      var url = js_urls[i];\n      var s = document.createElement('script');\n      s.src = url;\n      s.async = false;\n      s.onreadystatechange = s.onload = function() {\n        root._bokeh_is_loading--;\n        if (root._bokeh_is_loading === 0) {\n          console.log(\"Bokeh: all BokehJS libraries loaded\");\n          run_callbacks()\n        }\n      };\n      s.onerror = function() {\n        console.warn(\"failed to load library \" + url);\n      };\n      console.log(\"Bokeh: injecting script tag for BokehJS library: \", url);\n      document.getElementsByTagName(\"head\")[0].appendChild(s);\n    }\n  };\n\n  var js_urls = [\"https://cdn.pydata.org/bokeh/release/bokeh-1.0.4.min.js\", \"https://cdn.pydata.org/bokeh/release/bokeh-widgets-1.0.4.min.js\", \"https://cdn.pydata.org/bokeh/release/bokeh-tables-1.0.4.min.js\", \"https://cdn.pydata.org/bokeh/release/bokeh-gl-1.0.4.min.js\"];\n\n  var inline_js = [\n    function(Bokeh) {\n      Bokeh.set_log_level(\"info\");\n    },\n    \n    function(Bokeh) {\n      \n    },\n    function(Bokeh) {\n      console.log(\"Bokeh: injecting CSS: https://cdn.pydata.org/bokeh/release/bokeh-1.0.4.min.css\");\n      Bokeh.embed.inject_css(\"https://cdn.pydata.org/bokeh/release/bokeh-1.0.4.min.css\");\n      console.log(\"Bokeh: injecting CSS: https://cdn.pydata.org/bokeh/release/bokeh-widgets-1.0.4.min.css\");\n      Bokeh.embed.inject_css(\"https://cdn.pydata.org/bokeh/release/bokeh-widgets-1.0.4.min.css\");\n      console.log(\"Bokeh: injecting CSS: https://cdn.pydata.org/bokeh/release/bokeh-tables-1.0.4.min.css\");\n      Bokeh.embed.inject_css(\"https://cdn.pydata.org/bokeh/release/bokeh-tables-1.0.4.min.css\");\n    }\n  ];\n\n  function run_inline_js() {\n    \n    if ((root.Bokeh !== undefined) || (force === true)) {\n      for (var i = 0; i < inline_js.length; i++) {\n        inline_js[i].call(root, root.Bokeh);\n      }} else if (Date.now() < root._bokeh_timeout) {\n      setTimeout(run_inline_js, 100);\n    } else if (!root._bokeh_failed_load) {\n      console.log(\"Bokeh: BokehJS failed to load within specified timeout.\");\n      root._bokeh_failed_load = true;\n    } else if (force !== true) {\n      var cell = $(document.getElementById(null)).parents('.cell').data().cell;\n      cell.output_area.append_execute_result(NB_LOAD_WARNING)\n    }\n\n  }\n\n  if (root._bokeh_is_loading === 0) {\n    console.log(\"Bokeh: BokehJS loaded, going straight to plotting\");\n    run_inline_js();\n  } else {\n    load_libs(js_urls, function() {\n      console.log(\"Bokeh: BokehJS plotting callback run at\", now());\n      run_inline_js();\n    });\n  }\n}(window));"
     },
     "metadata": {
      "tags": []
     },
     "output_type": "display_data"
    },
    {
     "data": {
      "text/html": [
       "\n",
       "\n",
       "\n",
       "\n",
       "\n",
       "\n",
       "  <div class=\"bk-root\" id=\"01023b9e-a82a-49b9-bdc0-97a452f591b0\" data-root-id=\"1629\"></div>\n"
      ]
     },
     "metadata": {
      "tags": []
     },
     "output_type": "display_data"
    },
    {
     "data": {
      "application/javascript": [
       "(function(root) {\n",
       "  function embed_document(root) {\n",
       "    \n",
       "  var docs_json = {\"9aef2812-23d8-4957-9ea5-fdada4fc1e7a\":{\"roots\":{\"references\":[{\"attributes\":{\"below\":[{\"id\":\"1639\",\"type\":\"LinearAxis\"}],\"left\":[{\"id\":\"1644\",\"type\":\"LinearAxis\"}],\"renderers\":[{\"id\":\"1639\",\"type\":\"LinearAxis\"},{\"id\":\"1643\",\"type\":\"Grid\"},{\"id\":\"1644\",\"type\":\"LinearAxis\"},{\"id\":\"1648\",\"type\":\"Grid\"},{\"id\":\"1662\",\"type\":\"GlyphRenderer\"},{\"id\":\"1664\",\"type\":\"LabelSet\"}],\"title\":{\"id\":\"1628\",\"type\":\"Title\"},\"toolbar\":{\"id\":\"1653\",\"type\":\"Toolbar\"},\"toolbar_location\":\"above\",\"x_range\":{\"id\":\"1631\",\"type\":\"DataRange1d\"},\"x_scale\":{\"id\":\"1635\",\"type\":\"LinearScale\"},\"y_range\":{\"id\":\"1633\",\"type\":\"DataRange1d\"},\"y_scale\":{\"id\":\"1637\",\"type\":\"LinearScale\"}},\"id\":\"1629\",\"subtype\":\"Figure\",\"type\":\"Plot\"},{\"attributes\":{\"plot\":{\"id\":\"1629\",\"subtype\":\"Figure\",\"type\":\"Plot\"},\"ticker\":{\"id\":\"1640\",\"type\":\"BasicTicker\"}},\"id\":\"1643\",\"type\":\"Grid\"},{\"attributes\":{\"dimension\":1,\"plot\":{\"id\":\"1629\",\"subtype\":\"Figure\",\"type\":\"Plot\"},\"ticker\":{\"id\":\"1645\",\"type\":\"BasicTicker\"}},\"id\":\"1648\",\"type\":\"Grid\"},{\"attributes\":{},\"id\":\"1645\",\"type\":\"BasicTicker\"},{\"attributes\":{},\"id\":\"1640\",\"type\":\"BasicTicker\"},{\"attributes\":{\"formatter\":{\"id\":\"1711\",\"type\":\"BasicTickFormatter\"},\"plot\":{\"id\":\"1629\",\"subtype\":\"Figure\",\"type\":\"Plot\"},\"ticker\":{\"id\":\"1645\",\"type\":\"BasicTicker\"}},\"id\":\"1644\",\"type\":\"LinearAxis\"},{\"attributes\":{\"plot\":{\"id\":\"1629\",\"subtype\":\"Figure\",\"type\":\"Plot\"},\"source\":{\"id\":\"1658\",\"type\":\"ColumnDataSource\"},\"text\":{\"field\":\"names\"},\"text_align\":\"center\",\"text_color\":{\"value\":\"#555555\"},\"text_font_size\":{\"value\":\"8pt\"},\"x\":{\"field\":\"x1\"},\"y\":{\"field\":\"x2\"},\"y_offset\":{\"value\":6}},\"id\":\"1664\",\"type\":\"LabelSet\"},{\"attributes\":{},\"id\":\"1652\",\"type\":\"SaveTool\"},{\"attributes\":{\"callback\":null},\"id\":\"1633\",\"type\":\"DataRange1d\"},{\"attributes\":{},\"id\":\"1635\",\"type\":\"LinearScale\"},{\"attributes\":{},\"id\":\"1650\",\"type\":\"WheelZoomTool\"},{\"attributes\":{},\"id\":\"1637\",\"type\":\"LinearScale\"},{\"attributes\":{},\"id\":\"1651\",\"type\":\"ResetTool\"},{\"attributes\":{},\"id\":\"1649\",\"type\":\"PanTool\"},{\"attributes\":{\"formatter\":{\"id\":\"1709\",\"type\":\"BasicTickFormatter\"},\"plot\":{\"id\":\"1629\",\"subtype\":\"Figure\",\"type\":\"Plot\"},\"ticker\":{\"id\":\"1640\",\"type\":\"BasicTicker\"}},\"id\":\"1639\",\"type\":\"LinearAxis\"},{\"attributes\":{},\"id\":\"1714\",\"type\":\"UnionRenderers\"},{\"attributes\":{\"callback\":null},\"id\":\"1631\",\"type\":\"DataRange1d\"},{\"attributes\":{\"active_drag\":\"auto\",\"active_inspect\":\"auto\",\"active_multi\":null,\"active_scroll\":\"auto\",\"active_tap\":\"auto\",\"tools\":[{\"id\":\"1649\",\"type\":\"PanTool\"},{\"id\":\"1650\",\"type\":\"WheelZoomTool\"},{\"id\":\"1651\",\"type\":\"ResetTool\"},{\"id\":\"1652\",\"type\":\"SaveTool\"}]},\"id\":\"1653\",\"type\":\"Toolbar\"},{\"attributes\":{\"plot\":null,\"text\":\"word2vec T-SNE (\\u043c\\u043e\\u0434\\u0435\\u043b\\u044c, \\u0442\\u043e\\u043f 200 \\u0441\\u043b\\u043e\\u0432)\"},\"id\":\"1628\",\"type\":\"Title\"},{\"attributes\":{\"fill_color\":{\"value\":\"#1f77b4\"},\"line_color\":{\"value\":\"#1f77b4\"},\"size\":{\"units\":\"screen\",\"value\":8},\"x\":{\"field\":\"x1\"},\"y\":{\"field\":\"x2\"}},\"id\":\"1660\",\"type\":\"Scatter\"},{\"attributes\":{\"callback\":null,\"data\":{\"names\":[\"\\u0432\",\"\\u044f\",\"\\u0438\",\"\\u043d\\u0435\",\"\\u043d\\u0430\",\"\\u0447\\u0442\\u043e\",\"\\u0441\",\"\\u0431\\u044b\\u0442\\u044c\",\"\\u0431\\u0430\\u043d\\u043a\\u0430\",\"\\u043f\\u043e\",\"\\u044d\\u0442\\u043e\",\"\\u043a\\u0430\\u0440\\u0442\\u0430\",\"\\u0431\\u0430\\u043d\\u043a\",\"\\u0432\\u0435\\u0441\\u044c\",\"\\u0430\",\"\\u043c\\u043e\\u0439\",\"\\u043a\\u0430\\u043a\",\"\\u0437\\u0430\",\"\\u043a\",\"\\u043d\\u043e\",\"\\u0442\\u043e\",\"\\u043e\",\"\\u0434\\u0435\\u043d\\u044c\\u0433\\u0430\",\"\\u0443\",\"\\u0434\\u0435\\u043d\\u044c\",\"\\u0433\\u043e\\u0434\",\"\\u043e\\u0442\\u0434\\u0435\\u043b\\u0435\\u043d\\u0438\\u0435\",\"\\u0442\\u043e\\u0442\",\"\\u043a\\u043e\\u0442\\u043e\\u0440\\u044b\\u0439\",\"\\u043a\\u0440\\u0435\\u0434\\u0438\\u0442\",\"\\u0442\\u0430\\u043a\",\"\\u0441\\u043e\\u0442\\u0440\\u0443\\u0434\\u043d\\u0438\\u043a\",\"\\u043e\\u043d\\u0438\",\"\\u0432\\u044b\",\"\\u043a\\u043b\\u0438\\u0435\\u043d\\u0442\",\"\\u043e\\u043d\\u0430\",\"\\u043c\\u043e\\u0447\\u044c\",\"\\u0441\\u0447\\u0451\\u0442\",\"\\u043e\\u043d\",\"\\u0441\\u043a\\u0430\\u0437\\u0430\\u0442\\u044c\",\"\\u0436\\u0435\",\"\\u043e\\u0434\\u0438\\u043d\",\"\\u043e\\u0442\",\"\\u0441\\u0432\\u043e\\u0439\",\"\\u0434\\u043b\\u044f\",\"\\u0447\\u0435\\u0440\\u0435\\u0437\",\"\\u0443\\u0436\\u0435\",\"\\u044d\\u0442\\u043e\\u0442\",\"\\u0437\\u0430\\u044f\\u0432\\u043b\\u0435\\u043d\\u0438\\u0435\",\"\\u0438\\u0437\",\"\\u0442\\u0430\\u043a\\u043e\\u0439\",\"\\u0434\\u043e\",\"\\u0441\\u0443\\u043c\\u043c\\u0430\",\"\\u043c\\u044b\",\"\\u0440\\u0430\\u0437\",\"\\u0432\\u043e\\u043f\\u0440\\u043e\\u0441\",\"\\u0432\\u0440\\u0435\\u043c\\u044f\",\"\\u0440\\u0443\\u0431\\u043b\\u044c\",\"\\u0442\\u043e\\u043c\",\"\\u0435\\u0449\\u0451\",\"\\u0442\\u043e\\u043b\\u044c\\u043a\\u043e\",\"\\u043f\\u0440\\u0438\",\"\\u043d\\u0435\\u0442\",\"\\u043a\\u0430\\u043a\\u043e\\u0439\",\"\\u0434\\u0430\\u0442\\u044c\",\"\\u043f\\u043e\\u043b\\u0443\\u0447\\u0438\\u0442\\u044c\",\"\\u043e\\u0444\\u0438\\u0441\",\"\\u043f\\u043e\\u0441\\u043b\\u0435\",\"\\u043a\\u043e\\u0433\\u0434\\u0430\",\"\\u043e\\u0442\\u0432\\u0435\\u0442\",\"\\u043a\\u0440\\u0435\\u0434\\u0438\\u0442\\u043d\\u044b\\u0439\",\"\\u0435\\u0441\\u043b\\u0438\",\"\\u0432\\u043a\\u043b\\u0430\\u0434\",\"\\u0434\\u0440\\u0443\\u0433\\u043e\\u0439\",\"\\u0437\\u0432\\u043e\\u043d\\u0438\\u0442\\u044c\",\"\\u043e\\u0447\\u0435\\u043d\\u044c\",\"\\u0442\\u0435\\u043b\\u0435\\u0444\\u043e\\u043d\",\"\\u043f\\u043e\\u0437\\u0432\\u043e\\u043d\\u0438\\u0442\\u044c\",\"\\u043f\\u043b\\u0430\\u0442\\u0451\\u0436\",\"\\u0434\\u043e\\u0433\\u043e\\u0432\\u043e\\u0440\",\"\\u0431\\u0430\\u043d\\u043a\\u043e\\u043c\\u0430\\u0442\",\"\\u0440\\u0430\\u0431\\u043e\\u0442\\u0430\\u0442\\u044c\",\"\\u0434\\u0432\\u0430\",\"\\u0431\\u044b\",\"\\u043d\\u0430\\u043f\\u0438\\u0441\\u0430\\u0442\\u044c\",\"\\u043c\\u0435\\u0441\\u044f\\u0446\",\"\\u043f\\u0440\\u043e\\u0431\\u043b\\u0435\\u043c\\u0430\",\"\\u0434\\u043e\\u043a\\u0443\\u043c\\u0435\\u043d\\u0442\",\"\\u0441\\u0431\\u0435\\u0440\\u0431\\u0430\\u043d\\u043a\",\"\\u0440\\u0430\\u0431\\u043e\\u0442\\u0430\",\"\\u043d\\u0438\",\"\\u0447\\u0442\\u043e\\u0431\\u044b\",\"\\u0432\\u0430\\u0448\",\"\\u043d\\u043e\\u043c\\u0435\\u0440\",\"\\u0440\\u0435\\u0448\\u0438\\u0442\\u044c\",\"\\u0438\\u043b\\u0438\",\"\\u0431\\u0435\\u0437\",\"\\u0433\\u0434\\u0435\",\"\\u0445\\u043e\\u0442\\u0435\\u0442\\u044c\",\"\\u0441\\u0440\\u0435\\u0434\\u0441\\u0442\\u0432\\u043e\",\"\\u0442\\u0430\\u043c\",\"\\u0441\\u0438\\u0442\\u0443\\u0430\\u0446\\u0438\\u044f\",\"\\u0431\\u043e\\u043b\\u044c\\u0448\\u043e\\u0439\",\"\\u0447\\u0435\\u043b\\u043e\\u0432\\u0435\\u043a\",\"\\u0435\\u0441\\u0442\\u044c\",\"\\u0437\\u0432\\u043e\\u043d\\u043e\\u043a\",\"\\u043c\\u0438\\u043d\\u0443\\u0442\\u0430\",\"\\u0432\\u043e\\u0442\",\"\\u0434\\u043e\\u043b\\u0436\\u043d\\u044b\\u0439\",\"\\u0441\\u0434\\u0435\\u043b\\u0430\\u0442\\u044c\",\"\\u043e\\u0447\\u0435\\u0440\\u0435\\u0434\\u044c\",\"\\u043f\\u043e\\u0447\\u0435\\u043c\\u0443\",\"\\u043e\\u0431\\u0441\\u043b\\u0443\\u0436\\u0438\\u0432\\u0430\\u043d\\u0438\\u0435\",\"\\u0441\\u0440\\u043e\\u043a\",\"\\u043f\\u0440\\u043e\\u0441\\u0442\\u043e\",\"\\u0437\\u0430\\u044f\\u0432\\u043a\\u0430\",\"\\u0438\\u043d\\u0444\\u043e\\u0440\\u043c\\u0430\\u0446\\u0438\\u044f\",\"\\u0434\\u0435\\u0432\\u0443\\u0448\\u043a\\u0430\",\"\\u043c\\u043e\\u0436\\u043d\\u043e\",\"\\u0443\\u0441\\u043b\\u0443\\u0433\\u0430\",\"\\u043e\\u043f\\u0435\\u0440\\u0430\\u0446\\u0438\\u044f\",\"\\u043e\\u0431\\u0440\\u0430\\u0442\\u0438\\u0442\\u044c\\u0441\\u044f\",\"\\u0434\\u0430\\u0436\\u0435\",\"\\u0436\\u0434\\u0430\\u0442\\u044c\",\"\\u0437\\u043d\\u0430\\u0442\\u044c\",\"\\u043f\\u0440\\u0435\\u0442\\u0435\\u043d\\u0437\\u0438\\u044f\",\"\\u043d\\u0438\\u0447\\u0442\\u043e\",\"\\u043d\\u0435\\u0434\\u0435\\u043b\\u044f\",\"\\u0441\\u0435\\u0433\\u043e\\u0434\\u043d\\u044f\",\"\\u0433\\u043e\\u0432\\u043e\\u0440\\u0438\\u0442\\u044c\",\"\\u043b\\u0438\",\"\\u0441\\u043c\\u0441\",\"\\u0441\\u0430\\u043c\\u044b\\u0439\",\"\\u0441\\u0430\\u0439\\u0442\",\"\\u0441\\u0430\\u043c\",\"\\u0441\\u043e\\u043e\\u0431\\u0449\\u0438\\u0442\\u044c\",\"\\u043f\\u0440\\u043e\\u0446\\u0435\\u043d\\u0442\",\"\\u043e\\u043f\\u0435\\u0440\\u0430\\u0442\\u043e\\u0440\",\"\\u043e\\u0442\\u0432\\u0435\\u0442\\u0438\\u0442\\u044c\",\"\\u043d\\u0438\\u043a\\u0430\\u043a\\u043e\\u0439\",\"\\u0434\\u0430\",\"\\u043d\\u0443\\u0436\\u043d\\u043e\",\"\\u0434\\u0430\\u043b\\u0435\\u0435\",\"\\u0438\\u043d\\u0442\\u0435\\u0440\\u043d\\u0435\\u0442\",\"\\u043d\\u0430\\u0434\\u043e\",\"\\u043d\\u0443\",\"\\u0447\\u0435\\u043c\",\"\\u043e\\u0444\\u043e\\u0440\\u043c\\u0438\\u0442\\u044c\",\"\\u043d\\u0430\\u0448\",\"\\u043d\\u0435\\u0441\\u043a\\u043e\\u043b\\u044c\\u043a\\u043e\",\"\\u043f\\u0438\\u0441\\u0430\\u0442\\u044c\",\"\\u043f\\u0435\\u0440\\u0435\\u0432\\u043e\\u0434\",\"\\u0441\\u0442\\u0430\\u0442\\u044c\",\"\\u0446\\u0435\\u043d\\u0442\\u0440\",\"\\u043a\\u0442\\u043e\",\"\\u043f\\u0440\\u043e\\u0441\\u0438\\u0442\\u044c\",\"\\u0431\\u043e\\u043b\\u0435\\u0435\",\"\\u0442\\u0443\\u0442\",\"\\u0441\\u043b\\u0435\\u0434\\u0443\\u044e\\u0449\\u0438\\u0439\",\"\\u0442\\u0435\\u0447\\u0435\\u043d\\u0438\\u0435\",\"\\u0434\\u0430\\u043d\\u043d\\u044b\\u0439\",\"\\u0445\\u043e\\u0442\\u044f\",\"\\u0435\",\"\\u043a\\u043e\\u043c\\u0438\\u0441\\u0441\\u0438\\u044f\",\"\\u0441\\u043f\\u0435\\u0446\\u0438\\u0430\\u043b\\u0438\\u0441\\u0442\",\"\\u043d\\u043e\\u0432\\u044b\\u0439\",\"\\u0438\\u043c\\u044f\",\"\\u043d\\u0438\\u043a\\u0442\\u043e\",\"\\u0441\\u0435\\u0431\\u044f\",\"\\u0432\\u044b\\u0434\\u0430\\u0442\\u044c\",\"\\u043f\\u043e\\u0442\\u043e\\u043c\",\"\\u0432\\u043e\\u043e\\u0431\\u0449\\u0435\",\"\\u0432\\u0437\\u044f\\u0442\\u044c\",\"\\u043f\\u043e\\u043b\\u044c\\u0437\\u043e\\u0432\\u0430\\u0442\\u044c\\u0441\\u044f\",\"\\u043c\\u0435\\u043d\\u0435\\u0434\\u0436\\u0435\\u0440\",\"\\u0434\\u0435\\u043b\\u0430\\u0442\\u044c\",\"\\u0443\\u0441\\u043b\\u043e\\u0432\\u0438\\u0435\",\"\\u0441\\u0440\\u0430\\u0437\\u0443\",\"\\u043e\\u043f\\u044f\\u0442\\u044c\",\"\\u043f\\u0440\\u0438\\u0439\\u0442\\u0438\",\"\\u0437\\u0430\\u0434\\u043e\\u043b\\u0436\\u0435\\u043d\\u043d\\u043e\\u0441\\u0442\\u044c\",\"\\u0432\\u0441\",\"\\u0434\\u0435\\u043b\\u043e\",\"\\u0438\\u043c\\u0435\\u0442\\u044c\",\"\\u043c\\u043e\\u043c\\u0435\\u043d\\u0442\",\"\\u044f\\u0432\\u043b\\u044f\\u0442\\u044c\\u0441\\u044f\",\"\\u043f\\u0440\\u0438\\u043d\\u044f\\u0442\\u044c\",\"\\u0440\\u0435\\u0448\\u0435\\u043d\\u0438\\u0435\",\"\\u0442\\u0430\\u043a\\u0436\\u0435\",\"\\u0442\\u0435\\u043f\\u0435\\u0440\\u044c\",\"\\u043c\\u043e\\u0441\\u043a\\u0432\\u0430\",\"\\u043f\\u0440\\u0438\\u0445\\u043e\\u0434\\u0438\\u0442\\u044c\",\"\\u0438\\u0442\\u043e\\u0433\",\"\\u043a\\u0430\\u0441\\u0441\\u0430\",\"\\u0441\\u043b\\u0443\\u0447\\u0430\\u0439\",\"\\u0442\\u0440\\u0438\",\"\\u043e\\u0431\\u0440\\u0430\\u0449\\u0435\\u043d\\u0438\\u0435\",\"\\u0441\\u043b\\u0443\\u0436\\u0431\\u0430\",\"\\u0441\\u043c\\u043e\\u0447\\u044c\",\"\\u0445\\u043e\\u0440\\u043e\\u0448\\u0438\\u0439\",\"\\u0432\",\"\\u044f\",\"\\u0438\",\"\\u043d\\u0435\",\"\\u043d\\u0430\",\"\\u0447\\u0442\\u043e\",\"\\u0441\",\"\\u0431\\u044b\\u0442\\u044c\",\"\\u0431\\u0430\\u043d\\u043a\\u0430\",\"\\u043f\\u043e\",\"\\u044d\\u0442\\u043e\",\"\\u043a\\u0430\\u0440\\u0442\\u0430\",\"\\u0431\\u0430\\u043d\\u043a\",\"\\u0432\\u0435\\u0441\\u044c\",\"\\u0430\",\"\\u043c\\u043e\\u0439\",\"\\u043a\\u0430\\u043a\",\"\\u0437\\u0430\",\"\\u043a\",\"\\u043d\\u043e\",\"\\u0442\\u043e\",\"\\u043e\",\"\\u0434\\u0435\\u043d\\u044c\\u0433\\u0430\",\"\\u0443\",\"\\u0434\\u0435\\u043d\\u044c\",\"\\u0433\\u043e\\u0434\",\"\\u043e\\u0442\\u0434\\u0435\\u043b\\u0435\\u043d\\u0438\\u0435\",\"\\u0442\\u043e\\u0442\",\"\\u043a\\u043e\\u0442\\u043e\\u0440\\u044b\\u0439\",\"\\u043a\\u0440\\u0435\\u0434\\u0438\\u0442\",\"\\u0442\\u0430\\u043a\",\"\\u0441\\u043e\\u0442\\u0440\\u0443\\u0434\\u043d\\u0438\\u043a\",\"\\u043e\\u043d\\u0438\",\"\\u0432\\u044b\",\"\\u043a\\u043b\\u0438\\u0435\\u043d\\u0442\",\"\\u043e\\u043d\\u0430\",\"\\u043c\\u043e\\u0447\\u044c\",\"\\u0441\\u0447\\u0451\\u0442\",\"\\u043e\\u043d\",\"\\u0441\\u043a\\u0430\\u0437\\u0430\\u0442\\u044c\",\"\\u0436\\u0435\",\"\\u043e\\u0434\\u0438\\u043d\",\"\\u043e\\u0442\",\"\\u0441\\u0432\\u043e\\u0439\",\"\\u0434\\u043b\\u044f\",\"\\u0447\\u0435\\u0440\\u0435\\u0437\",\"\\u0443\\u0436\\u0435\",\"\\u044d\\u0442\\u043e\\u0442\",\"\\u0437\\u0430\\u044f\\u0432\\u043b\\u0435\\u043d\\u0438\\u0435\",\"\\u0438\\u0437\",\"\\u0442\\u0430\\u043a\\u043e\\u0439\",\"\\u0434\\u043e\",\"\\u0441\\u0443\\u043c\\u043c\\u0430\",\"\\u043c\\u044b\",\"\\u0440\\u0430\\u0437\",\"\\u0432\\u043e\\u043f\\u0440\\u043e\\u0441\",\"\\u0432\\u0440\\u0435\\u043c\\u044f\",\"\\u0440\\u0443\\u0431\\u043b\\u044c\",\"\\u0442\\u043e\\u043c\",\"\\u0435\\u0449\\u0451\",\"\\u0442\\u043e\\u043b\\u044c\\u043a\\u043e\",\"\\u043f\\u0440\\u0438\",\"\\u043d\\u0435\\u0442\",\"\\u043a\\u0430\\u043a\\u043e\\u0439\",\"\\u0434\\u0430\\u0442\\u044c\",\"\\u043f\\u043e\\u043b\\u0443\\u0447\\u0438\\u0442\\u044c\",\"\\u043e\\u0444\\u0438\\u0441\",\"\\u043f\\u043e\\u0441\\u043b\\u0435\",\"\\u043a\\u043e\\u0433\\u0434\\u0430\",\"\\u043e\\u0442\\u0432\\u0435\\u0442\",\"\\u043a\\u0440\\u0435\\u0434\\u0438\\u0442\\u043d\\u044b\\u0439\",\"\\u0435\\u0441\\u043b\\u0438\",\"\\u0432\\u043a\\u043b\\u0430\\u0434\",\"\\u0434\\u0440\\u0443\\u0433\\u043e\\u0439\",\"\\u0437\\u0432\\u043e\\u043d\\u0438\\u0442\\u044c\",\"\\u043e\\u0447\\u0435\\u043d\\u044c\",\"\\u0442\\u0435\\u043b\\u0435\\u0444\\u043e\\u043d\",\"\\u043f\\u043e\\u0437\\u0432\\u043e\\u043d\\u0438\\u0442\\u044c\",\"\\u043f\\u043b\\u0430\\u0442\\u0451\\u0436\",\"\\u0434\\u043e\\u0433\\u043e\\u0432\\u043e\\u0440\",\"\\u0431\\u0430\\u043d\\u043a\\u043e\\u043c\\u0430\\u0442\",\"\\u0440\\u0430\\u0431\\u043e\\u0442\\u0430\\u0442\\u044c\",\"\\u0434\\u0432\\u0430\",\"\\u0431\\u044b\",\"\\u043d\\u0430\\u043f\\u0438\\u0441\\u0430\\u0442\\u044c\",\"\\u043c\\u0435\\u0441\\u044f\\u0446\",\"\\u043f\\u0440\\u043e\\u0431\\u043b\\u0435\\u043c\\u0430\",\"\\u0434\\u043e\\u043a\\u0443\\u043c\\u0435\\u043d\\u0442\",\"\\u0441\\u0431\\u0435\\u0440\\u0431\\u0430\\u043d\\u043a\",\"\\u0440\\u0430\\u0431\\u043e\\u0442\\u0430\",\"\\u043d\\u0438\",\"\\u0447\\u0442\\u043e\\u0431\\u044b\",\"\\u0432\\u0430\\u0448\",\"\\u043d\\u043e\\u043c\\u0435\\u0440\",\"\\u0440\\u0435\\u0448\\u0438\\u0442\\u044c\",\"\\u0438\\u043b\\u0438\",\"\\u0431\\u0435\\u0437\",\"\\u0433\\u0434\\u0435\",\"\\u0445\\u043e\\u0442\\u0435\\u0442\\u044c\",\"\\u0441\\u0440\\u0435\\u0434\\u0441\\u0442\\u0432\\u043e\",\"\\u0442\\u0430\\u043c\",\"\\u0441\\u0438\\u0442\\u0443\\u0430\\u0446\\u0438\\u044f\",\"\\u0431\\u043e\\u043b\\u044c\\u0448\\u043e\\u0439\",\"\\u0447\\u0435\\u043b\\u043e\\u0432\\u0435\\u043a\",\"\\u0435\\u0441\\u0442\\u044c\",\"\\u0437\\u0432\\u043e\\u043d\\u043e\\u043a\",\"\\u043c\\u0438\\u043d\\u0443\\u0442\\u0430\",\"\\u0432\\u043e\\u0442\",\"\\u0434\\u043e\\u043b\\u0436\\u043d\\u044b\\u0439\",\"\\u0441\\u0434\\u0435\\u043b\\u0430\\u0442\\u044c\",\"\\u043e\\u0447\\u0435\\u0440\\u0435\\u0434\\u044c\",\"\\u043f\\u043e\\u0447\\u0435\\u043c\\u0443\",\"\\u043e\\u0431\\u0441\\u043b\\u0443\\u0436\\u0438\\u0432\\u0430\\u043d\\u0438\\u0435\",\"\\u0441\\u0440\\u043e\\u043a\",\"\\u043f\\u0440\\u043e\\u0441\\u0442\\u043e\",\"\\u0437\\u0430\\u044f\\u0432\\u043a\\u0430\",\"\\u0438\\u043d\\u0444\\u043e\\u0440\\u043c\\u0430\\u0446\\u0438\\u044f\",\"\\u0434\\u0435\\u0432\\u0443\\u0448\\u043a\\u0430\",\"\\u043c\\u043e\\u0436\\u043d\\u043e\",\"\\u0443\\u0441\\u043b\\u0443\\u0433\\u0430\",\"\\u043e\\u043f\\u0435\\u0440\\u0430\\u0446\\u0438\\u044f\",\"\\u043e\\u0431\\u0440\\u0430\\u0442\\u0438\\u0442\\u044c\\u0441\\u044f\",\"\\u0434\\u0430\\u0436\\u0435\",\"\\u0436\\u0434\\u0430\\u0442\\u044c\",\"\\u0437\\u043d\\u0430\\u0442\\u044c\",\"\\u043f\\u0440\\u0435\\u0442\\u0435\\u043d\\u0437\\u0438\\u044f\",\"\\u043d\\u0438\\u0447\\u0442\\u043e\",\"\\u043d\\u0435\\u0434\\u0435\\u043b\\u044f\",\"\\u0441\\u0435\\u0433\\u043e\\u0434\\u043d\\u044f\",\"\\u0433\\u043e\\u0432\\u043e\\u0440\\u0438\\u0442\\u044c\",\"\\u043b\\u0438\",\"\\u0441\\u043c\\u0441\",\"\\u0441\\u0430\\u043c\\u044b\\u0439\",\"\\u0441\\u0430\\u0439\\u0442\",\"\\u0441\\u0430\\u043c\",\"\\u0441\\u043e\\u043e\\u0431\\u0449\\u0438\\u0442\\u044c\",\"\\u043f\\u0440\\u043e\\u0446\\u0435\\u043d\\u0442\",\"\\u043e\\u043f\\u0435\\u0440\\u0430\\u0442\\u043e\\u0440\",\"\\u043e\\u0442\\u0432\\u0435\\u0442\\u0438\\u0442\\u044c\",\"\\u043d\\u0438\\u043a\\u0430\\u043a\\u043e\\u0439\",\"\\u0434\\u0430\",\"\\u043d\\u0443\\u0436\\u043d\\u043e\",\"\\u0434\\u0430\\u043b\\u0435\\u0435\",\"\\u0438\\u043d\\u0442\\u0435\\u0440\\u043d\\u0435\\u0442\",\"\\u043d\\u0430\\u0434\\u043e\",\"\\u043d\\u0443\",\"\\u0447\\u0435\\u043c\",\"\\u043e\\u0444\\u043e\\u0440\\u043c\\u0438\\u0442\\u044c\",\"\\u043d\\u0430\\u0448\",\"\\u043d\\u0435\\u0441\\u043a\\u043e\\u043b\\u044c\\u043a\\u043e\",\"\\u043f\\u0438\\u0441\\u0430\\u0442\\u044c\",\"\\u043f\\u0435\\u0440\\u0435\\u0432\\u043e\\u0434\",\"\\u0441\\u0442\\u0430\\u0442\\u044c\",\"\\u0446\\u0435\\u043d\\u0442\\u0440\",\"\\u043a\\u0442\\u043e\",\"\\u043f\\u0440\\u043e\\u0441\\u0438\\u0442\\u044c\",\"\\u0431\\u043e\\u043b\\u0435\\u0435\",\"\\u0442\\u0443\\u0442\",\"\\u0441\\u043b\\u0435\\u0434\\u0443\\u044e\\u0449\\u0438\\u0439\",\"\\u0442\\u0435\\u0447\\u0435\\u043d\\u0438\\u0435\",\"\\u0434\\u0430\\u043d\\u043d\\u044b\\u0439\",\"\\u0445\\u043e\\u0442\\u044f\",\"\\u0435\",\"\\u043a\\u043e\\u043c\\u0438\\u0441\\u0441\\u0438\\u044f\",\"\\u0441\\u043f\\u0435\\u0446\\u0438\\u0430\\u043b\\u0438\\u0441\\u0442\",\"\\u043d\\u043e\\u0432\\u044b\\u0439\",\"\\u0438\\u043c\\u044f\",\"\\u043d\\u0438\\u043a\\u0442\\u043e\",\"\\u0441\\u0435\\u0431\\u044f\",\"\\u0432\\u044b\\u0434\\u0430\\u0442\\u044c\",\"\\u043f\\u043e\\u0442\\u043e\\u043c\",\"\\u0432\\u043e\\u043e\\u0431\\u0449\\u0435\",\"\\u0432\\u0437\\u044f\\u0442\\u044c\",\"\\u043f\\u043e\\u043b\\u044c\\u0437\\u043e\\u0432\\u0430\\u0442\\u044c\\u0441\\u044f\",\"\\u043c\\u0435\\u043d\\u0435\\u0434\\u0436\\u0435\\u0440\",\"\\u0434\\u0435\\u043b\\u0430\\u0442\\u044c\",\"\\u0443\\u0441\\u043b\\u043e\\u0432\\u0438\\u0435\",\"\\u0441\\u0440\\u0430\\u0437\\u0443\",\"\\u043e\\u043f\\u044f\\u0442\\u044c\",\"\\u043f\\u0440\\u0438\\u0439\\u0442\\u0438\",\"\\u0437\\u0430\\u0434\\u043e\\u043b\\u0436\\u0435\\u043d\\u043d\\u043e\\u0441\\u0442\\u044c\",\"\\u0432\\u0441\",\"\\u0434\\u0435\\u043b\\u043e\",\"\\u0438\\u043c\\u0435\\u0442\\u044c\",\"\\u043c\\u043e\\u043c\\u0435\\u043d\\u0442\",\"\\u044f\\u0432\\u043b\\u044f\\u0442\\u044c\\u0441\\u044f\",\"\\u043f\\u0440\\u0438\\u043d\\u044f\\u0442\\u044c\",\"\\u0440\\u0435\\u0448\\u0435\\u043d\\u0438\\u0435\",\"\\u0442\\u0430\\u043a\\u0436\\u0435\",\"\\u0442\\u0435\\u043f\\u0435\\u0440\\u044c\",\"\\u043c\\u043e\\u0441\\u043a\\u0432\\u0430\",\"\\u043f\\u0440\\u0438\\u0445\\u043e\\u0434\\u0438\\u0442\\u044c\",\"\\u0438\\u0442\\u043e\\u0433\",\"\\u043a\\u0430\\u0441\\u0441\\u0430\",\"\\u0441\\u043b\\u0443\\u0447\\u0430\\u0439\",\"\\u0442\\u0440\\u0438\",\"\\u043e\\u0431\\u0440\\u0430\\u0449\\u0435\\u043d\\u0438\\u0435\",\"\\u0441\\u043b\\u0443\\u0436\\u0431\\u0430\",\"\\u0441\\u043c\\u043e\\u0447\\u044c\",\"\\u0445\\u043e\\u0440\\u043e\\u0448\\u0438\\u0439\"],\"x1\":{\"__ndarray__\":\"/lyNQRYxbsDX8wRBqFBLQPJStUH1PvdADfS0QVqOJUAr9IHBR+DaQQvQlcCAfwjCgzt3wXf0VUGzTCBBaAxZwQGTIUFzYbVBGWjFwGGtPUF5/ppBab8BQrj7H0HqYJ5A8eJCwoaoDEKhWKzBXi6XQYgVAEHkR8fBYEzNP5D3kj8r14G/lA7wvsY2cMAPk8PAca7HQZVrE8JRZ1PAnd4eQtTA6MAhtzZBQ1iaQfBTpcHG49NBhyK2QP9hGUEDHDTBSbNBwn/TgUHTjAHBiwUhQHnYFMIhu0zAdDE0wfTOXcFOraHAy6cPwpBRjEEwEiZB/pZiQGF55UE/Bj1APQW6QGzSlcGyt6zBtw27wW7I4EFkL2BBg9rwwWdbscEu3oRBU0QcwsGGS8FMEjBCruYkQc+x88E8YjhCnU0bQnf/CsE+0c/BEPqJQbTzDUHHqfM/qnlMwaxzREAYLzPBaufdwCvwj8HFUKNB2h2+QV+AZkHhv3vBS/z9wf0Iq0EJTE5BO1usQS9u10AnRqZBUzn+wQwVaUBJAwfBmwXGQIssNMAOh6BAFUUUwhU1JUCX/IXAga1SwV7CGMFM7mhBikdAQSVZw0FMkOtB598SQdJURsKYJf3BSPrNwfFvg8EvHhZCRHemwaAqDcIFzJtAfDBiv2CfA0I00jjCHjb+QU3pB0CefMy/idsVQvKKgUGE2CzBLV6lQKun1kGA1jC/gnkpQmsbH8KdKL3Bsk4dQp2rt0FUmnq++2RtQX0NCMGNHojBkNU6wc+5NcBSXg5BXdVhwe0micFoUT9B6YYXQsOhucFZUGPBhMHJwVClYkBX4vRBAxS9v8dqoz6veKFANzjHQD2VYcEaEldB2rXxwAkrGMKjRqTBFFXCv79xBcEjZN5BvEHOwV7TqMF7CXvA2tzeQITQg8EGZVlB6dWwwSEf9sDZrwzBZygBQF08pr/knzpCgxu+wXcFeEFnMwbBf0ucQIMHi8HeFRVBehe1wdcHnUEHz7tANvKgv+4IDsEDID9CMsnGwGVozcHhh2jBGEgNQRcVMML9frzBvsnYQds+FsA=\",\"dtype\":\"float32\",\"shape\":[200]},\"x2\":{\"__ndarray__\":\"2bKIQerbL8E+SmDAYr0swYp8jkFIRGDBSupRQdHm4sBg18/B5BhwQXtXfcD66rPB9OLlwUuuBkEeFsHACOPQP60KgsGAVARB37LqQdr/TsDBAWdA9PyxQXXx/MEcqejBeWlQQPLFAcIu+eRB+J8AQlnDGcGUpmPBs3+oQFFivMHRkRLBlN1OwV0Ws8FqowTBijyHwbSCwMFIEPvA0tYnQR5R+0DCm9VBfza6Qbd4lj3mULFBw/r0QRmoS0HZn0LA0fAvQVkGXEHt/ovASTWpQWbWRcEbqF7B1tG/QRRkOMIIbLNB3PEXwWBds7/8qYVBRqmXPyHkyEFceRfCK9GbwfFzm8BakzVClgnsQQXS4EHwQBRAVbIrQHd1kMEIstfAOSHTwQBnBsENDcZBnbujQP8grEEtscFB30THwS5YqsH7zuHB1CUewlzsqkHNrSLA5Q4IQpMVKEJxCDbCV9OCwRY2vsGh/hfCfruvvyAyu8HCzT2/nXDAQZ4jwMHX4wHBhgoeweEWDUGOsY3BgNZ7wVNaAkGvTTXCCv2CQFjxzsHtqBzCanmKQcSIQELADtFA3bqXwbiAJUK2wBxCWZBQwZdsD8LG6sfBo9YwP2UJYEFqLQrCGh41Qb/nc8FbnIDBFZQWwraYCEEAKwzA6pztQdXduUCY209Bj98nwf2+MULYtJBBskkNQf0HO8Hv+B1BH0x6QS/qeEBEYJ3Ab3cuQSVw98DYBFtBUTlUQaaHqMDZ//k/8JyTwYyDTECKoRrBvcl5wW3iUkDK2LvBqQAqQoLMBkD7VLNBSCXEvowOGMLaV9FAtMegQcykgMHASFTAZPn+wZdfLEES1NFBX1gGQm6hZcDGrVzA+gaEPabhyMDjji5BFniQwZN1McHJ2A/Bo7k3wFWkK0IaIEFBrCD5u8BXLkLZPS7CsB8HQbdzIUIcLtzBlQRQQezabUH7yKk/WPsTwSnmBEEe4QzCYgcvwkZBvUEKRjfCR8MdQkPH4sFaJLvABf3kQHd8Y0FGWcm+K+qOQdBqy8FT4UtB4ZG8QUNDW0Gwm5NBBkGKwQ6jUb8=\",\"dtype\":\"float32\",\"shape\":[200]}},\"selected\":{\"id\":\"1713\",\"type\":\"Selection\"},\"selection_policy\":{\"id\":\"1714\",\"type\":\"UnionRenderers\"}},\"id\":\"1658\",\"type\":\"ColumnDataSource\"},{\"attributes\":{\"data_source\":{\"id\":\"1658\",\"type\":\"ColumnDataSource\"},\"glyph\":{\"id\":\"1660\",\"type\":\"Scatter\"},\"hover_glyph\":null,\"muted_glyph\":null,\"nonselection_glyph\":{\"id\":\"1661\",\"type\":\"Scatter\"},\"selection_glyph\":null,\"view\":{\"id\":\"1663\",\"type\":\"CDSView\"}},\"id\":\"1662\",\"type\":\"GlyphRenderer\"},{\"attributes\":{\"fill_alpha\":{\"value\":0.1},\"fill_color\":{\"value\":\"#1f77b4\"},\"line_alpha\":{\"value\":0.1},\"line_color\":{\"value\":\"#1f77b4\"},\"size\":{\"units\":\"screen\",\"value\":8},\"x\":{\"field\":\"x1\"},\"y\":{\"field\":\"x2\"}},\"id\":\"1661\",\"type\":\"Scatter\"},{\"attributes\":{},\"id\":\"1709\",\"type\":\"BasicTickFormatter\"},{\"attributes\":{\"source\":{\"id\":\"1658\",\"type\":\"ColumnDataSource\"}},\"id\":\"1663\",\"type\":\"CDSView\"},{\"attributes\":{},\"id\":\"1711\",\"type\":\"BasicTickFormatter\"},{\"attributes\":{},\"id\":\"1713\",\"type\":\"Selection\"}],\"root_ids\":[\"1629\"]},\"title\":\"Bokeh Application\",\"version\":\"1.0.4\"}};\n",
       "  var render_items = [{\"docid\":\"9aef2812-23d8-4957-9ea5-fdada4fc1e7a\",\"roots\":{\"1629\":\"01023b9e-a82a-49b9-bdc0-97a452f591b0\"}}];\n",
       "  root.Bokeh.embed.embed_items_notebook(docs_json, render_items);\n",
       "\n",
       "  }\n",
       "  if (root.Bokeh !== undefined) {\n",
       "    embed_document(root);\n",
       "  } else {\n",
       "    var attempts = 0;\n",
       "    var timer = setInterval(function(root) {\n",
       "      if (root.Bokeh !== undefined) {\n",
       "        embed_document(root);\n",
       "        clearInterval(timer);\n",
       "      }\n",
       "      attempts++;\n",
       "      if (attempts > 100) {\n",
       "        console.log(\"Bokeh: ERROR: Unable to run BokehJS code because BokehJS library is missing\");\n",
       "        clearInterval(timer);\n",
       "      }\n",
       "    }, 10, root)\n",
       "  }\n",
       "})(window);"
      ],
      "application/vnd.bokehjs_exec.v0+json": ""
     },
     "metadata": {
      "application/vnd.bokehjs_exec.v0+json": {
       "id": "1629"
      },
      "tags": []
     },
     "output_type": "display_data"
    }
   ],
   "source": [
    "from bokeh.models import ColumnDataSource, LabelSet\n",
    "from bokeh.plotting import figure, show, output_file\n",
    "from bokeh.io import output_notebook\n",
    "output_notebook()\n",
    "\n",
    "p = figure(tools=\"pan,wheel_zoom,reset,save\",\n",
    "           toolbar_location=\"above\",\n",
    "           title=\"word2vec T-SNE (модель, топ 200 слов)\")\n",
    "\n",
    "source = ColumnDataSource(data=dict(x1=top_words_tsne[:,0],\n",
    "                                    x2=top_words_tsne[:,1],\n",
    "                                    names=top_words))\n",
    "\n",
    "p.scatter(x=\"x1\", y=\"x2\", size=8, source=source)\n",
    "\n",
    "labels = LabelSet(x=\"x1\", y=\"x2\", text=\"names\", y_offset=6,\n",
    "                  text_font_size=\"8pt\", text_color=\"#555555\",\n",
    "                  source=source, text_align='center')\n",
    "p.add_layout(labels)\n",
    "\n",
    "show(p)"
   ]
  },
  {
   "cell_type": "code",
   "execution_count": 0,
   "metadata": {
    "colab": {},
    "colab_type": "code",
    "id": "Pmph6eTNl2Rs"
   },
   "outputs": [],
   "source": [
    "# Осмысленные кластеры слов(время:минута неделя месяц, обращение: заявка обращение претензия заявление)"
   ]
  },
  {
   "cell_type": "code",
   "execution_count": 117,
   "metadata": {
    "colab": {
     "base_uri": "https://localhost:8080/",
     "height": 92
    },
    "colab_type": "code",
    "executionInfo": {
     "elapsed": 576,
     "status": "ok",
     "timestamp": 1577271455156,
     "user": {
      "displayName": "Виталий Петров",
      "photoUrl": "https://lh3.googleusercontent.com/a-/AAuE7mB7PehAbh83_ljFokWyRysl9EPzyhxk0CTziLs9=s64",
      "userId": "12889039604498682671"
     },
     "user_tz": -300
    },
    "id": "ppJrj1aZDn7-",
    "outputId": "3d1ebd4a-d62d-4526-9748-18a736a39e6b"
   },
   "outputs": [
    {
     "name": "stdout",
     "output_type": "stream",
     "text": [
      "[('отлично', 0.6508923768997192), ('здорово', 0.6294060945510864), ('неплохо', 0.5911627411842346), ('ок', 0.5875182747840881), ('плохо', 0.5615386962890625), ('идеально', 0.552628219127655), ('классно', 0.5479950904846191), ('гладко', 0.5237932205200195), ('красиво', 0.5157138109207153), ('гуд', 0.5083898305892944)]\n"
     ]
    },
    {
     "name": "stderr",
     "output_type": "stream",
     "text": [
      "/usr/local/lib/python3.6/dist-packages/gensim/matutils.py:737: FutureWarning: Conversion of the second argument of issubdtype from `int` to `np.signedinteger` is deprecated. In future, it will be treated as `np.int64 == np.dtype(int).type`.\n",
      "  if np.issubdtype(vec.dtype, np.int):\n"
     ]
    }
   ],
   "source": [
    "print(model_df.wv.most_similar(\"хорошо\", topn=10))"
   ]
  },
  {
   "cell_type": "code",
   "execution_count": 0,
   "metadata": {
    "colab": {},
    "colab_type": "code",
    "id": "fozc5JIS2hhh"
   },
   "outputs": [],
   "source": [
    "# Координаты для нового простанства"
   ]
  },
  {
   "cell_type": "code",
   "execution_count": 0,
   "metadata": {
    "colab": {},
    "colab_type": "code",
    "id": "cCrS_CwXtrB7"
   },
   "outputs": [],
   "source": [
    "x_aix=model_df.wv['хорошо']-model_df.wv['плохо']"
   ]
  },
  {
   "cell_type": "code",
   "execution_count": 0,
   "metadata": {
    "colab": {},
    "colab_type": "code",
    "id": "fH639TEhuLZt"
   },
   "outputs": [],
   "source": [
    "y_aix=model_df.wv['быстро']-model_df.wv['медленно']"
   ]
  },
  {
   "cell_type": "code",
   "execution_count": 0,
   "metadata": {
    "colab": {},
    "colab_type": "code",
    "id": "rPrDCm0q2fcI"
   },
   "outputs": [],
   "source": [
    "# Найдем популярные банки"
   ]
  },
  {
   "cell_type": "code",
   "execution_count": 0,
   "metadata": {
    "colab": {},
    "colab_type": "code",
    "id": "bfetsJ0GuMbC"
   },
   "outputs": [],
   "source": [
    "import collections\n",
    "\n",
    "c = collections.Counter()"
   ]
  },
  {
   "cell_type": "code",
   "execution_count": 0,
   "metadata": {
    "colab": {},
    "colab_type": "code",
    "id": "OSQRIPf0uz4W"
   },
   "outputs": [],
   "source": [
    "c = collections.Counter()\n",
    "for banky in responses:\n",
    "    c[banky['bank_name']]+=1"
   ]
  },
  {
   "cell_type": "code",
   "execution_count": 0,
   "metadata": {
    "colab": {},
    "colab_type": "code",
    "id": "U2FYjDI4u3M2"
   },
   "outputs": [],
   "source": [
    "banks=c.most_common(10)"
   ]
  },
  {
   "cell_type": "code",
   "execution_count": 139,
   "metadata": {
    "colab": {
     "base_uri": "https://localhost:8080/",
     "height": 199
    },
    "colab_type": "code",
    "executionInfo": {
     "elapsed": 592,
     "status": "ok",
     "timestamp": 1577272147018,
     "user": {
      "displayName": "Виталий Петров",
      "photoUrl": "https://lh3.googleusercontent.com/a-/AAuE7mB7PehAbh83_ljFokWyRysl9EPzyhxk0CTziLs9=s64",
      "userId": "12889039604498682671"
     },
     "user_tz": -300
    },
    "id": "cTVc0uIZu6Wm",
    "outputId": "cea650d3-ed7b-42a7-83d2-55f18f3ec7e4"
   },
   "outputs": [
    {
     "name": "stdout",
     "output_type": "stream",
     "text": [
      "сбербанк россии\n",
      "альфа-банк\n",
      "втб 24\n",
      "русский стандарт\n",
      "хоум кредит банк\n",
      "тинькофф банк\n",
      "национальный банк «траст»\n",
      "ренессанс кредит\n",
      "связной банк\n",
      "отп банк\n"
     ]
    }
   ],
   "source": [
    "for bank in banks:\n",
    "  print(bank[0].lower())"
   ]
  },
  {
   "cell_type": "code",
   "execution_count": 0,
   "metadata": {
    "colab": {},
    "colab_type": "code",
    "id": "gRdeN9XMvMfq"
   },
   "outputs": [],
   "source": [
    "banks=['сбербанк', 'альфа','тинькофф','траст', 'ренессанс','связной','отп']"
   ]
  },
  {
   "cell_type": "code",
   "execution_count": 0,
   "metadata": {
    "colab": {},
    "colab_type": "code",
    "id": "OQ9adNy8vWrQ"
   },
   "outputs": [],
   "source": [
    "X=[] #хорошо плохо\n",
    "Y=[] #быстро медленно\n",
    "for bank in banks:\n",
    "  z=model_df.wv[bank]\n",
    "  X.append(x_aix*z)\n",
    "  Y.append(y_aix*z)\n"
   ]
  },
  {
   "cell_type": "code",
   "execution_count": 0,
   "metadata": {
    "colab": {},
    "colab_type": "code",
    "id": "LJJTcMEJ2y-e"
   },
   "outputs": [],
   "source": [
    "# Снизим размерность"
   ]
  },
  {
   "cell_type": "code",
   "execution_count": 0,
   "metadata": {
    "colab": {},
    "colab_type": "code",
    "id": "4Vyakvvmxd1s"
   },
   "outputs": [],
   "source": [
    "tsne = TSNE(n_components=1, random_state=0)\n",
    "top_words_tsne_x = tsne.fit_transform(X)\n",
    "top_words_tsne_y = tsne.fit_transform(Y)"
   ]
  },
  {
   "cell_type": "code",
   "execution_count": 0,
   "metadata": {
    "colab": {},
    "colab_type": "code",
    "id": "Dx6j1efz26kf"
   },
   "outputs": [],
   "source": [
    "# Построим зависимостри на двухмерной плоскости"
   ]
  },
  {
   "cell_type": "code",
   "execution_count": 165,
   "metadata": {
    "colab": {
     "base_uri": "https://localhost:8080/",
     "height": 617
    },
    "colab_type": "code",
    "executionInfo": {
     "elapsed": 718,
     "status": "ok",
     "timestamp": 1577273862754,
     "user": {
      "displayName": "Виталий Петров",
      "photoUrl": "https://lh3.googleusercontent.com/a-/AAuE7mB7PehAbh83_ljFokWyRysl9EPzyhxk0CTziLs9=s64",
      "userId": "12889039604498682671"
     },
     "user_tz": -300
    },
    "id": "HepEyOlKwLcg",
    "outputId": "11439902-ce18-408d-d229-45fe0cffc7ff"
   },
   "outputs": [
    {
     "data": {
      "application/javascript": [
       "\n",
       "(function(root) {\n",
       "  function now() {\n",
       "    return new Date();\n",
       "  }\n",
       "\n",
       "  var force = true;\n",
       "\n",
       "  if (typeof (root._bokeh_onload_callbacks) === \"undefined\" || force === true) {\n",
       "    root._bokeh_onload_callbacks = [];\n",
       "    root._bokeh_is_loading = undefined;\n",
       "  }\n",
       "\n",
       "  var JS_MIME_TYPE = 'application/javascript';\n",
       "  var HTML_MIME_TYPE = 'text/html';\n",
       "  var EXEC_MIME_TYPE = 'application/vnd.bokehjs_exec.v0+json';\n",
       "  var CLASS_NAME = 'output_bokeh rendered_html';\n",
       "\n",
       "  /**\n",
       "   * Render data to the DOM node\n",
       "   */\n",
       "  function render(props, node) {\n",
       "    var script = document.createElement(\"script\");\n",
       "    node.appendChild(script);\n",
       "  }\n",
       "\n",
       "  /**\n",
       "   * Handle when an output is cleared or removed\n",
       "   */\n",
       "  function handleClearOutput(event, handle) {\n",
       "    var cell = handle.cell;\n",
       "\n",
       "    var id = cell.output_area._bokeh_element_id;\n",
       "    var server_id = cell.output_area._bokeh_server_id;\n",
       "    // Clean up Bokeh references\n",
       "    if (id != null && id in Bokeh.index) {\n",
       "      Bokeh.index[id].model.document.clear();\n",
       "      delete Bokeh.index[id];\n",
       "    }\n",
       "\n",
       "    if (server_id !== undefined) {\n",
       "      // Clean up Bokeh references\n",
       "      var cmd = \"from bokeh.io.state import curstate; print(curstate().uuid_to_server['\" + server_id + \"'].get_sessions()[0].document.roots[0]._id)\";\n",
       "      cell.notebook.kernel.execute(cmd, {\n",
       "        iopub: {\n",
       "          output: function(msg) {\n",
       "            var id = msg.content.text.trim();\n",
       "            if (id in Bokeh.index) {\n",
       "              Bokeh.index[id].model.document.clear();\n",
       "              delete Bokeh.index[id];\n",
       "            }\n",
       "          }\n",
       "        }\n",
       "      });\n",
       "      // Destroy server and session\n",
       "      var cmd = \"import bokeh.io.notebook as ion; ion.destroy_server('\" + server_id + \"')\";\n",
       "      cell.notebook.kernel.execute(cmd);\n",
       "    }\n",
       "  }\n",
       "\n",
       "  /**\n",
       "   * Handle when a new output is added\n",
       "   */\n",
       "  function handleAddOutput(event, handle) {\n",
       "    var output_area = handle.output_area;\n",
       "    var output = handle.output;\n",
       "\n",
       "    // limit handleAddOutput to display_data with EXEC_MIME_TYPE content only\n",
       "    if ((output.output_type != \"display_data\") || (!output.data.hasOwnProperty(EXEC_MIME_TYPE))) {\n",
       "      return\n",
       "    }\n",
       "\n",
       "    var toinsert = output_area.element.find(\".\" + CLASS_NAME.split(' ')[0]);\n",
       "\n",
       "    if (output.metadata[EXEC_MIME_TYPE][\"id\"] !== undefined) {\n",
       "      toinsert[toinsert.length - 1].firstChild.textContent = output.data[JS_MIME_TYPE];\n",
       "      // store reference to embed id on output_area\n",
       "      output_area._bokeh_element_id = output.metadata[EXEC_MIME_TYPE][\"id\"];\n",
       "    }\n",
       "    if (output.metadata[EXEC_MIME_TYPE][\"server_id\"] !== undefined) {\n",
       "      var bk_div = document.createElement(\"div\");\n",
       "      bk_div.innerHTML = output.data[HTML_MIME_TYPE];\n",
       "      var script_attrs = bk_div.children[0].attributes;\n",
       "      for (var i = 0; i < script_attrs.length; i++) {\n",
       "        toinsert[toinsert.length - 1].firstChild.setAttribute(script_attrs[i].name, script_attrs[i].value);\n",
       "      }\n",
       "      // store reference to server id on output_area\n",
       "      output_area._bokeh_server_id = output.metadata[EXEC_MIME_TYPE][\"server_id\"];\n",
       "    }\n",
       "  }\n",
       "\n",
       "  function register_renderer(events, OutputArea) {\n",
       "\n",
       "    function append_mime(data, metadata, element) {\n",
       "      // create a DOM node to render to\n",
       "      var toinsert = this.create_output_subarea(\n",
       "        metadata,\n",
       "        CLASS_NAME,\n",
       "        EXEC_MIME_TYPE\n",
       "      );\n",
       "      this.keyboard_manager.register_events(toinsert);\n",
       "      // Render to node\n",
       "      var props = {data: data, metadata: metadata[EXEC_MIME_TYPE]};\n",
       "      render(props, toinsert[toinsert.length - 1]);\n",
       "      element.append(toinsert);\n",
       "      return toinsert\n",
       "    }\n",
       "\n",
       "    /* Handle when an output is cleared or removed */\n",
       "    events.on('clear_output.CodeCell', handleClearOutput);\n",
       "    events.on('delete.Cell', handleClearOutput);\n",
       "\n",
       "    /* Handle when a new output is added */\n",
       "    events.on('output_added.OutputArea', handleAddOutput);\n",
       "\n",
       "    /**\n",
       "     * Register the mime type and append_mime function with output_area\n",
       "     */\n",
       "    OutputArea.prototype.register_mime_type(EXEC_MIME_TYPE, append_mime, {\n",
       "      /* Is output safe? */\n",
       "      safe: true,\n",
       "      /* Index of renderer in `output_area.display_order` */\n",
       "      index: 0\n",
       "    });\n",
       "  }\n",
       "\n",
       "  // register the mime type if in Jupyter Notebook environment and previously unregistered\n",
       "  if (root.Jupyter !== undefined) {\n",
       "    var events = require('base/js/events');\n",
       "    var OutputArea = require('notebook/js/outputarea').OutputArea;\n",
       "\n",
       "    if (OutputArea.prototype.mime_types().indexOf(EXEC_MIME_TYPE) == -1) {\n",
       "      register_renderer(events, OutputArea);\n",
       "    }\n",
       "  }\n",
       "\n",
       "  \n",
       "  if (typeof (root._bokeh_timeout) === \"undefined\" || force === true) {\n",
       "    root._bokeh_timeout = Date.now() + 5000;\n",
       "    root._bokeh_failed_load = false;\n",
       "  }\n",
       "\n",
       "  var NB_LOAD_WARNING = {'data': {'text/html':\n",
       "     \"<div style='background-color: #fdd'>\\n\"+\n",
       "     \"<p>\\n\"+\n",
       "     \"BokehJS does not appear to have successfully loaded. If loading BokehJS from CDN, this \\n\"+\n",
       "     \"may be due to a slow or bad network connection. Possible fixes:\\n\"+\n",
       "     \"</p>\\n\"+\n",
       "     \"<ul>\\n\"+\n",
       "     \"<li>re-rerun `output_notebook()` to attempt to load from CDN again, or</li>\\n\"+\n",
       "     \"<li>use INLINE resources instead, as so:</li>\\n\"+\n",
       "     \"</ul>\\n\"+\n",
       "     \"<code>\\n\"+\n",
       "     \"from bokeh.resources import INLINE\\n\"+\n",
       "     \"output_notebook(resources=INLINE)\\n\"+\n",
       "     \"</code>\\n\"+\n",
       "     \"</div>\"}};\n",
       "\n",
       "  function display_loaded() {\n",
       "    var el = document.getElementById(null);\n",
       "    if (el != null) {\n",
       "      el.textContent = \"BokehJS is loading...\";\n",
       "    }\n",
       "    if (root.Bokeh !== undefined) {\n",
       "      if (el != null) {\n",
       "        el.textContent = \"BokehJS \" + root.Bokeh.version + \" successfully loaded.\";\n",
       "      }\n",
       "    } else if (Date.now() < root._bokeh_timeout) {\n",
       "      setTimeout(display_loaded, 100)\n",
       "    }\n",
       "  }\n",
       "\n",
       "\n",
       "  function run_callbacks() {\n",
       "    try {\n",
       "      root._bokeh_onload_callbacks.forEach(function(callback) { callback() });\n",
       "    }\n",
       "    finally {\n",
       "      delete root._bokeh_onload_callbacks\n",
       "    }\n",
       "    console.info(\"Bokeh: all callbacks have finished\");\n",
       "  }\n",
       "\n",
       "  function load_libs(js_urls, callback) {\n",
       "    root._bokeh_onload_callbacks.push(callback);\n",
       "    if (root._bokeh_is_loading > 0) {\n",
       "      console.log(\"Bokeh: BokehJS is being loaded, scheduling callback at\", now());\n",
       "      return null;\n",
       "    }\n",
       "    if (js_urls == null || js_urls.length === 0) {\n",
       "      run_callbacks();\n",
       "      return null;\n",
       "    }\n",
       "    console.log(\"Bokeh: BokehJS not loaded, scheduling load and callback at\", now());\n",
       "    root._bokeh_is_loading = js_urls.length;\n",
       "    for (var i = 0; i < js_urls.length; i++) {\n",
       "      var url = js_urls[i];\n",
       "      var s = document.createElement('script');\n",
       "      s.src = url;\n",
       "      s.async = false;\n",
       "      s.onreadystatechange = s.onload = function() {\n",
       "        root._bokeh_is_loading--;\n",
       "        if (root._bokeh_is_loading === 0) {\n",
       "          console.log(\"Bokeh: all BokehJS libraries loaded\");\n",
       "          run_callbacks()\n",
       "        }\n",
       "      };\n",
       "      s.onerror = function() {\n",
       "        console.warn(\"failed to load library \" + url);\n",
       "      };\n",
       "      console.log(\"Bokeh: injecting script tag for BokehJS library: \", url);\n",
       "      document.getElementsByTagName(\"head\")[0].appendChild(s);\n",
       "    }\n",
       "  };\n",
       "\n",
       "  var js_urls = [\"https://cdn.pydata.org/bokeh/release/bokeh-1.0.4.min.js\", \"https://cdn.pydata.org/bokeh/release/bokeh-widgets-1.0.4.min.js\", \"https://cdn.pydata.org/bokeh/release/bokeh-tables-1.0.4.min.js\", \"https://cdn.pydata.org/bokeh/release/bokeh-gl-1.0.4.min.js\"];\n",
       "\n",
       "  var inline_js = [\n",
       "    function(Bokeh) {\n",
       "      Bokeh.set_log_level(\"info\");\n",
       "    },\n",
       "    \n",
       "    function(Bokeh) {\n",
       "      \n",
       "    },\n",
       "    function(Bokeh) {\n",
       "      console.log(\"Bokeh: injecting CSS: https://cdn.pydata.org/bokeh/release/bokeh-1.0.4.min.css\");\n",
       "      Bokeh.embed.inject_css(\"https://cdn.pydata.org/bokeh/release/bokeh-1.0.4.min.css\");\n",
       "      console.log(\"Bokeh: injecting CSS: https://cdn.pydata.org/bokeh/release/bokeh-widgets-1.0.4.min.css\");\n",
       "      Bokeh.embed.inject_css(\"https://cdn.pydata.org/bokeh/release/bokeh-widgets-1.0.4.min.css\");\n",
       "      console.log(\"Bokeh: injecting CSS: https://cdn.pydata.org/bokeh/release/bokeh-tables-1.0.4.min.css\");\n",
       "      Bokeh.embed.inject_css(\"https://cdn.pydata.org/bokeh/release/bokeh-tables-1.0.4.min.css\");\n",
       "    }\n",
       "  ];\n",
       "\n",
       "  function run_inline_js() {\n",
       "    \n",
       "    if ((root.Bokeh !== undefined) || (force === true)) {\n",
       "      for (var i = 0; i < inline_js.length; i++) {\n",
       "        inline_js[i].call(root, root.Bokeh);\n",
       "      }} else if (Date.now() < root._bokeh_timeout) {\n",
       "      setTimeout(run_inline_js, 100);\n",
       "    } else if (!root._bokeh_failed_load) {\n",
       "      console.log(\"Bokeh: BokehJS failed to load within specified timeout.\");\n",
       "      root._bokeh_failed_load = true;\n",
       "    } else if (force !== true) {\n",
       "      var cell = $(document.getElementById(null)).parents('.cell').data().cell;\n",
       "      cell.output_area.append_execute_result(NB_LOAD_WARNING)\n",
       "    }\n",
       "\n",
       "  }\n",
       "\n",
       "  if (root._bokeh_is_loading === 0) {\n",
       "    console.log(\"Bokeh: BokehJS loaded, going straight to plotting\");\n",
       "    run_inline_js();\n",
       "  } else {\n",
       "    load_libs(js_urls, function() {\n",
       "      console.log(\"Bokeh: BokehJS plotting callback run at\", now());\n",
       "      run_inline_js();\n",
       "    });\n",
       "  }\n",
       "}(window));"
      ],
      "application/vnd.bokehjs_load.v0+json": "\n(function(root) {\n  function now() {\n    return new Date();\n  }\n\n  var force = true;\n\n  if (typeof (root._bokeh_onload_callbacks) === \"undefined\" || force === true) {\n    root._bokeh_onload_callbacks = [];\n    root._bokeh_is_loading = undefined;\n  }\n\n  \n\n  \n  if (typeof (root._bokeh_timeout) === \"undefined\" || force === true) {\n    root._bokeh_timeout = Date.now() + 5000;\n    root._bokeh_failed_load = false;\n  }\n\n  var NB_LOAD_WARNING = {'data': {'text/html':\n     \"<div style='background-color: #fdd'>\\n\"+\n     \"<p>\\n\"+\n     \"BokehJS does not appear to have successfully loaded. If loading BokehJS from CDN, this \\n\"+\n     \"may be due to a slow or bad network connection. Possible fixes:\\n\"+\n     \"</p>\\n\"+\n     \"<ul>\\n\"+\n     \"<li>re-rerun `output_notebook()` to attempt to load from CDN again, or</li>\\n\"+\n     \"<li>use INLINE resources instead, as so:</li>\\n\"+\n     \"</ul>\\n\"+\n     \"<code>\\n\"+\n     \"from bokeh.resources import INLINE\\n\"+\n     \"output_notebook(resources=INLINE)\\n\"+\n     \"</code>\\n\"+\n     \"</div>\"}};\n\n  function display_loaded() {\n    var el = document.getElementById(null);\n    if (el != null) {\n      el.textContent = \"BokehJS is loading...\";\n    }\n    if (root.Bokeh !== undefined) {\n      if (el != null) {\n        el.textContent = \"BokehJS \" + root.Bokeh.version + \" successfully loaded.\";\n      }\n    } else if (Date.now() < root._bokeh_timeout) {\n      setTimeout(display_loaded, 100)\n    }\n  }\n\n\n  function run_callbacks() {\n    try {\n      root._bokeh_onload_callbacks.forEach(function(callback) { callback() });\n    }\n    finally {\n      delete root._bokeh_onload_callbacks\n    }\n    console.info(\"Bokeh: all callbacks have finished\");\n  }\n\n  function load_libs(js_urls, callback) {\n    root._bokeh_onload_callbacks.push(callback);\n    if (root._bokeh_is_loading > 0) {\n      console.log(\"Bokeh: BokehJS is being loaded, scheduling callback at\", now());\n      return null;\n    }\n    if (js_urls == null || js_urls.length === 0) {\n      run_callbacks();\n      return null;\n    }\n    console.log(\"Bokeh: BokehJS not loaded, scheduling load and callback at\", now());\n    root._bokeh_is_loading = js_urls.length;\n    for (var i = 0; i < js_urls.length; i++) {\n      var url = js_urls[i];\n      var s = document.createElement('script');\n      s.src = url;\n      s.async = false;\n      s.onreadystatechange = s.onload = function() {\n        root._bokeh_is_loading--;\n        if (root._bokeh_is_loading === 0) {\n          console.log(\"Bokeh: all BokehJS libraries loaded\");\n          run_callbacks()\n        }\n      };\n      s.onerror = function() {\n        console.warn(\"failed to load library \" + url);\n      };\n      console.log(\"Bokeh: injecting script tag for BokehJS library: \", url);\n      document.getElementsByTagName(\"head\")[0].appendChild(s);\n    }\n  };\n\n  var js_urls = [\"https://cdn.pydata.org/bokeh/release/bokeh-1.0.4.min.js\", \"https://cdn.pydata.org/bokeh/release/bokeh-widgets-1.0.4.min.js\", \"https://cdn.pydata.org/bokeh/release/bokeh-tables-1.0.4.min.js\", \"https://cdn.pydata.org/bokeh/release/bokeh-gl-1.0.4.min.js\"];\n\n  var inline_js = [\n    function(Bokeh) {\n      Bokeh.set_log_level(\"info\");\n    },\n    \n    function(Bokeh) {\n      \n    },\n    function(Bokeh) {\n      console.log(\"Bokeh: injecting CSS: https://cdn.pydata.org/bokeh/release/bokeh-1.0.4.min.css\");\n      Bokeh.embed.inject_css(\"https://cdn.pydata.org/bokeh/release/bokeh-1.0.4.min.css\");\n      console.log(\"Bokeh: injecting CSS: https://cdn.pydata.org/bokeh/release/bokeh-widgets-1.0.4.min.css\");\n      Bokeh.embed.inject_css(\"https://cdn.pydata.org/bokeh/release/bokeh-widgets-1.0.4.min.css\");\n      console.log(\"Bokeh: injecting CSS: https://cdn.pydata.org/bokeh/release/bokeh-tables-1.0.4.min.css\");\n      Bokeh.embed.inject_css(\"https://cdn.pydata.org/bokeh/release/bokeh-tables-1.0.4.min.css\");\n    }\n  ];\n\n  function run_inline_js() {\n    \n    if ((root.Bokeh !== undefined) || (force === true)) {\n      for (var i = 0; i < inline_js.length; i++) {\n        inline_js[i].call(root, root.Bokeh);\n      }} else if (Date.now() < root._bokeh_timeout) {\n      setTimeout(run_inline_js, 100);\n    } else if (!root._bokeh_failed_load) {\n      console.log(\"Bokeh: BokehJS failed to load within specified timeout.\");\n      root._bokeh_failed_load = true;\n    } else if (force !== true) {\n      var cell = $(document.getElementById(null)).parents('.cell').data().cell;\n      cell.output_area.append_execute_result(NB_LOAD_WARNING)\n    }\n\n  }\n\n  if (root._bokeh_is_loading === 0) {\n    console.log(\"Bokeh: BokehJS loaded, going straight to plotting\");\n    run_inline_js();\n  } else {\n    load_libs(js_urls, function() {\n      console.log(\"Bokeh: BokehJS plotting callback run at\", now());\n      run_inline_js();\n    });\n  }\n}(window));"
     },
     "metadata": {
      "tags": []
     },
     "output_type": "display_data"
    },
    {
     "data": {
      "text/html": [
       "\n",
       "\n",
       "\n",
       "\n",
       "\n",
       "\n",
       "  <div class=\"bk-root\" id=\"9818c63c-eba3-42d8-8116-6e44c018e828\" data-root-id=\"3102\"></div>\n"
      ]
     },
     "metadata": {
      "tags": []
     },
     "output_type": "display_data"
    },
    {
     "data": {
      "application/javascript": [
       "(function(root) {\n",
       "  function embed_document(root) {\n",
       "    \n",
       "  var docs_json = {\"00753265-365f-4c0c-9900-34824d1636a3\":{\"roots\":{\"references\":[{\"attributes\":{\"below\":[{\"id\":\"3112\",\"type\":\"LinearAxis\"}],\"left\":[{\"id\":\"3117\",\"type\":\"LinearAxis\"}],\"renderers\":[{\"id\":\"3112\",\"type\":\"LinearAxis\"},{\"id\":\"3116\",\"type\":\"Grid\"},{\"id\":\"3117\",\"type\":\"LinearAxis\"},{\"id\":\"3121\",\"type\":\"Grid\"},{\"id\":\"3135\",\"type\":\"GlyphRenderer\"},{\"id\":\"3137\",\"type\":\"LabelSet\"}],\"title\":{\"id\":\"3101\",\"type\":\"Title\"},\"toolbar\":{\"id\":\"3126\",\"type\":\"Toolbar\"},\"toolbar_location\":\"above\",\"x_range\":{\"id\":\"3104\",\"type\":\"DataRange1d\"},\"x_scale\":{\"id\":\"3108\",\"type\":\"LinearScale\"},\"y_range\":{\"id\":\"3106\",\"type\":\"DataRange1d\"},\"y_scale\":{\"id\":\"3110\",\"type\":\"LinearScale\"}},\"id\":\"3102\",\"subtype\":\"Figure\",\"type\":\"Plot\"},{\"attributes\":{},\"id\":\"3110\",\"type\":\"LinearScale\"},{\"attributes\":{},\"id\":\"3125\",\"type\":\"SaveTool\"},{\"attributes\":{\"callback\":null},\"id\":\"3104\",\"type\":\"DataRange1d\"},{\"attributes\":{\"dimension\":1,\"plot\":{\"id\":\"3102\",\"subtype\":\"Figure\",\"type\":\"Plot\"},\"ticker\":{\"id\":\"3118\",\"type\":\"BasicTicker\"}},\"id\":\"3121\",\"type\":\"Grid\"},{\"attributes\":{\"active_drag\":\"auto\",\"active_inspect\":\"auto\",\"active_multi\":null,\"active_scroll\":\"auto\",\"active_tap\":\"auto\",\"tools\":[{\"id\":\"3122\",\"type\":\"PanTool\"},{\"id\":\"3123\",\"type\":\"WheelZoomTool\"},{\"id\":\"3124\",\"type\":\"ResetTool\"},{\"id\":\"3125\",\"type\":\"SaveTool\"}]},\"id\":\"3126\",\"type\":\"Toolbar\"},{\"attributes\":{\"plot\":{\"id\":\"3102\",\"subtype\":\"Figure\",\"type\":\"Plot\"},\"source\":{\"id\":\"3131\",\"type\":\"ColumnDataSource\"},\"text\":{\"field\":\"names\"},\"text_align\":\"center\",\"text_color\":{\"value\":\"#555555\"},\"text_font_size\":{\"value\":\"10pt\"},\"x\":{\"field\":\"x1\"},\"y\":{\"field\":\"x2\"},\"y_offset\":{\"value\":6}},\"id\":\"3137\",\"type\":\"LabelSet\"},{\"attributes\":{},\"id\":\"3113\",\"type\":\"BasicTicker\"},{\"attributes\":{\"fill_alpha\":{\"value\":0.1},\"fill_color\":{\"value\":\"#1f77b4\"},\"line_alpha\":{\"value\":0.1},\"line_color\":{\"value\":\"#1f77b4\"},\"size\":{\"units\":\"screen\",\"value\":20},\"x\":{\"field\":\"x1\"},\"y\":{\"field\":\"x2\"}},\"id\":\"3134\",\"type\":\"Scatter\"},{\"attributes\":{\"callback\":null},\"id\":\"3106\",\"type\":\"DataRange1d\"},{\"attributes\":{\"data_source\":{\"id\":\"3131\",\"type\":\"ColumnDataSource\"},\"glyph\":{\"id\":\"3133\",\"type\":\"Scatter\"},\"hover_glyph\":null,\"muted_glyph\":null,\"nonselection_glyph\":{\"id\":\"3134\",\"type\":\"Scatter\"},\"selection_glyph\":null,\"view\":{\"id\":\"3136\",\"type\":\"CDSView\"}},\"id\":\"3135\",\"type\":\"GlyphRenderer\"},{\"attributes\":{\"source\":{\"id\":\"3131\",\"type\":\"ColumnDataSource\"}},\"id\":\"3136\",\"type\":\"CDSView\"},{\"attributes\":{\"formatter\":{\"id\":\"3245\",\"type\":\"BasicTickFormatter\"},\"plot\":{\"id\":\"3102\",\"subtype\":\"Figure\",\"type\":\"Plot\"},\"ticker\":{\"id\":\"3113\",\"type\":\"BasicTicker\"}},\"id\":\"3112\",\"type\":\"LinearAxis\"},{\"attributes\":{},\"id\":\"3108\",\"type\":\"LinearScale\"},{\"attributes\":{},\"id\":\"3123\",\"type\":\"WheelZoomTool\"},{\"attributes\":{},\"id\":\"3247\",\"type\":\"BasicTickFormatter\"},{\"attributes\":{\"plot\":{\"id\":\"3102\",\"subtype\":\"Figure\",\"type\":\"Plot\"},\"ticker\":{\"id\":\"3113\",\"type\":\"BasicTicker\"}},\"id\":\"3116\",\"type\":\"Grid\"},{\"attributes\":{},\"id\":\"3245\",\"type\":\"BasicTickFormatter\"},{\"attributes\":{},\"id\":\"3118\",\"type\":\"BasicTicker\"},{\"attributes\":{},\"id\":\"3249\",\"type\":\"Selection\"},{\"attributes\":{},\"id\":\"3122\",\"type\":\"PanTool\"},{\"attributes\":{\"fill_color\":{\"value\":\"#1f77b4\"},\"line_color\":{\"value\":\"#1f77b4\"},\"size\":{\"units\":\"screen\",\"value\":20},\"x\":{\"field\":\"x1\"},\"y\":{\"field\":\"x2\"}},\"id\":\"3133\",\"type\":\"Scatter\"},{\"attributes\":{},\"id\":\"3250\",\"type\":\"UnionRenderers\"},{\"attributes\":{},\"id\":\"3124\",\"type\":\"ResetTool\"},{\"attributes\":{\"plot\":null,\"text\":\"\\u041e\\u0441\\u044c \\u0425 '\\u0445\\u043e\\u0440\\u043e\\u0448\\u043e-\\u043f\\u043b\\u043e\\u0445\\u043e', \\u041e\\u0441\\u044c Y '\\u0431\\u044b\\u0441\\u0442\\u0440\\u043e-\\u043c\\u0435\\u0434\\u043b\\u0435\\u043d\\u043d\\u043e'\"},\"id\":\"3101\",\"type\":\"Title\"},{\"attributes\":{\"formatter\":{\"id\":\"3247\",\"type\":\"BasicTickFormatter\"},\"plot\":{\"id\":\"3102\",\"subtype\":\"Figure\",\"type\":\"Plot\"},\"ticker\":{\"id\":\"3118\",\"type\":\"BasicTicker\"}},\"id\":\"3117\",\"type\":\"LinearAxis\"},{\"attributes\":{\"callback\":null,\"data\":{\"names\":[\"\\u0441\\u0431\\u0435\\u0440\\u0431\\u0430\\u043d\\u043a\",\"\\u0430\\u043b\\u044c\\u0444\\u0430\",\"\\u0442\\u0438\\u043d\\u044c\\u043a\\u043e\\u0444\\u0444\",\"\\u0442\\u0440\\u0430\\u0441\\u0442\",\"\\u0440\\u0435\\u043d\\u0435\\u0441\\u0441\\u0430\\u043d\\u0441\",\"\\u0441\\u0432\\u044f\\u0437\\u043d\\u043e\\u0439\",\"\\u043e\\u0442\\u043f\"],\"x1\":{\"__ndarray__\":\"kVFawoVmD0ITf/NCm/eUQ5t+yEMnmk9Ddc4dww==\",\"dtype\":\"float32\",\"shape\":[7,1]},\"x2\":{\"__ndarray__\":\"3YRDxAu1GcNnP9s//CszQ6CD4MPIrpbDUCIXxA==\",\"dtype\":\"float32\",\"shape\":[7,1]}},\"selected\":{\"id\":\"3249\",\"type\":\"Selection\"},\"selection_policy\":{\"id\":\"3250\",\"type\":\"UnionRenderers\"}},\"id\":\"3131\",\"type\":\"ColumnDataSource\"}],\"root_ids\":[\"3102\"]},\"title\":\"Bokeh Application\",\"version\":\"1.0.4\"}};\n",
       "  var render_items = [{\"docid\":\"00753265-365f-4c0c-9900-34824d1636a3\",\"roots\":{\"3102\":\"9818c63c-eba3-42d8-8116-6e44c018e828\"}}];\n",
       "  root.Bokeh.embed.embed_items_notebook(docs_json, render_items);\n",
       "\n",
       "  }\n",
       "  if (root.Bokeh !== undefined) {\n",
       "    embed_document(root);\n",
       "  } else {\n",
       "    var attempts = 0;\n",
       "    var timer = setInterval(function(root) {\n",
       "      if (root.Bokeh !== undefined) {\n",
       "        embed_document(root);\n",
       "        clearInterval(timer);\n",
       "      }\n",
       "      attempts++;\n",
       "      if (attempts > 100) {\n",
       "        console.log(\"Bokeh: ERROR: Unable to run BokehJS code because BokehJS library is missing\");\n",
       "        clearInterval(timer);\n",
       "      }\n",
       "    }, 10, root)\n",
       "  }\n",
       "})(window);"
      ],
      "application/vnd.bokehjs_exec.v0+json": ""
     },
     "metadata": {
      "application/vnd.bokehjs_exec.v0+json": {
       "id": "3102"
      },
      "tags": []
     },
     "output_type": "display_data"
    }
   ],
   "source": [
    "output_notebook()\n",
    "\n",
    "p = figure(tools=\"pan,wheel_zoom,reset,save\",\n",
    "           toolbar_location=\"above\",\n",
    "           title=\"Ось Х 'хорошо-плохо', Ось Y 'быстро-медленно'\")\n",
    "\n",
    "source = ColumnDataSource(data=dict(x1=top_words_tsne_x,\n",
    "                                    x2=top_words_tsne_y,\n",
    "                                    names=banks))\n",
    "\n",
    "p.scatter(x=\"x1\", y=\"x2\", size=20, source=source)\n",
    "p.axis\n",
    "\n",
    "labels = LabelSet(x=\"x1\", y=\"x2\", text=\"names\", y_offset=6,\n",
    "                  text_font_size=\"10pt\", text_color=\"#555555\",\n",
    "                  source=source, text_align='center')\n",
    "p.add_layout(labels)\n",
    "\n",
    "show(p)"
   ]
  },
  {
   "cell_type": "code",
   "execution_count": 0,
   "metadata": {
    "colab": {},
    "colab_type": "code",
    "id": "U8XGdi62xC_x"
   },
   "outputs": [],
   "source": []
  },
  {
   "cell_type": "code",
   "execution_count": 0,
   "metadata": {
    "colab": {},
    "colab_type": "code",
    "id": "Rfe70U7l0vmX"
   },
   "outputs": [],
   "source": []
  }
 ],
 "metadata": {
  "accelerator": "GPU",
  "colab": {
   "name": "NLP_DZ_2.ipynb",
   "provenance": []
  },
  "kernelspec": {
   "display_name": "Python 3",
   "language": "python",
   "name": "python3"
  },
  "language_info": {
   "codemirror_mode": {
    "name": "ipython",
    "version": 3
   },
   "file_extension": ".py",
   "mimetype": "text/x-python",
   "name": "python",
   "nbconvert_exporter": "python",
   "pygments_lexer": "ipython3",
   "version": "3.7.3"
  },
  "widgets": {
   "application/vnd.jupyter.widget-state+json": {
    "012dbb9c39294bbd88a3668ec3924fca": {
     "model_module": "@jupyter-widgets/controls",
     "model_name": "HBoxModel",
     "state": {
      "_dom_classes": [],
      "_model_module": "@jupyter-widgets/controls",
      "_model_module_version": "1.5.0",
      "_model_name": "HBoxModel",
      "_view_count": null,
      "_view_module": "@jupyter-widgets/controls",
      "_view_module_version": "1.5.0",
      "_view_name": "HBoxView",
      "box_style": "",
      "children": [
       "IPY_MODEL_a1ea29ab63994fcca4645b00e193a5cb",
       "IPY_MODEL_598be623779b4141ae7cb705d7555122"
      ],
      "layout": "IPY_MODEL_1a5166f5a97046d7aa1a9faa99bcd5ef"
     }
    },
    "1a5166f5a97046d7aa1a9faa99bcd5ef": {
     "model_module": "@jupyter-widgets/base",
     "model_name": "LayoutModel",
     "state": {
      "_model_module": "@jupyter-widgets/base",
      "_model_module_version": "1.2.0",
      "_model_name": "LayoutModel",
      "_view_count": null,
      "_view_module": "@jupyter-widgets/base",
      "_view_module_version": "1.2.0",
      "_view_name": "LayoutView",
      "align_content": null,
      "align_items": null,
      "align_self": null,
      "border": null,
      "bottom": null,
      "display": null,
      "flex": null,
      "flex_flow": null,
      "grid_area": null,
      "grid_auto_columns": null,
      "grid_auto_flow": null,
      "grid_auto_rows": null,
      "grid_column": null,
      "grid_gap": null,
      "grid_row": null,
      "grid_template_areas": null,
      "grid_template_columns": null,
      "grid_template_rows": null,
      "height": null,
      "justify_content": null,
      "justify_items": null,
      "left": null,
      "margin": null,
      "max_height": null,
      "max_width": null,
      "min_height": null,
      "min_width": null,
      "object_fit": null,
      "object_position": null,
      "order": null,
      "overflow": null,
      "overflow_x": null,
      "overflow_y": null,
      "padding": null,
      "right": null,
      "top": null,
      "visibility": null,
      "width": null
     }
    },
    "598be623779b4141ae7cb705d7555122": {
     "model_module": "@jupyter-widgets/controls",
     "model_name": "HTMLModel",
     "state": {
      "_dom_classes": [],
      "_model_module": "@jupyter-widgets/controls",
      "_model_module_version": "1.5.0",
      "_model_name": "HTMLModel",
      "_view_count": null,
      "_view_module": "@jupyter-widgets/controls",
      "_view_module_version": "1.5.0",
      "_view_name": "HTMLView",
      "description": "",
      "description_tooltip": null,
      "layout": "IPY_MODEL_84161ca2683f43a0944268b5fc8d5588",
      "placeholder": "​",
      "style": "IPY_MODEL_5a91afdc37d24332908b46bab882f312",
      "value": "100% 1197275/1197275 [00:14&lt;00:00, 83692.57it/s]"
     }
    },
    "5a91afdc37d24332908b46bab882f312": {
     "model_module": "@jupyter-widgets/controls",
     "model_name": "DescriptionStyleModel",
     "state": {
      "_model_module": "@jupyter-widgets/controls",
      "_model_module_version": "1.5.0",
      "_model_name": "DescriptionStyleModel",
      "_view_count": null,
      "_view_module": "@jupyter-widgets/base",
      "_view_module_version": "1.2.0",
      "_view_name": "StyleView",
      "description_width": ""
     }
    },
    "84161ca2683f43a0944268b5fc8d5588": {
     "model_module": "@jupyter-widgets/base",
     "model_name": "LayoutModel",
     "state": {
      "_model_module": "@jupyter-widgets/base",
      "_model_module_version": "1.2.0",
      "_model_name": "LayoutModel",
      "_view_count": null,
      "_view_module": "@jupyter-widgets/base",
      "_view_module_version": "1.2.0",
      "_view_name": "LayoutView",
      "align_content": null,
      "align_items": null,
      "align_self": null,
      "border": null,
      "bottom": null,
      "display": null,
      "flex": null,
      "flex_flow": null,
      "grid_area": null,
      "grid_auto_columns": null,
      "grid_auto_flow": null,
      "grid_auto_rows": null,
      "grid_column": null,
      "grid_gap": null,
      "grid_row": null,
      "grid_template_areas": null,
      "grid_template_columns": null,
      "grid_template_rows": null,
      "height": null,
      "justify_content": null,
      "justify_items": null,
      "left": null,
      "margin": null,
      "max_height": null,
      "max_width": null,
      "min_height": null,
      "min_width": null,
      "object_fit": null,
      "object_position": null,
      "order": null,
      "overflow": null,
      "overflow_x": null,
      "overflow_y": null,
      "padding": null,
      "right": null,
      "top": null,
      "visibility": null,
      "width": null
     }
    },
    "a1ea29ab63994fcca4645b00e193a5cb": {
     "model_module": "@jupyter-widgets/controls",
     "model_name": "IntProgressModel",
     "state": {
      "_dom_classes": [],
      "_model_module": "@jupyter-widgets/controls",
      "_model_module_version": "1.5.0",
      "_model_name": "IntProgressModel",
      "_view_count": null,
      "_view_module": "@jupyter-widgets/controls",
      "_view_module_version": "1.5.0",
      "_view_name": "ProgressView",
      "bar_style": "success",
      "description": "",
      "description_tooltip": null,
      "layout": "IPY_MODEL_d0989d5365074a989cb0c8ce81906e65",
      "max": 1197275,
      "min": 0,
      "orientation": "horizontal",
      "style": "IPY_MODEL_f843ea11409d49718871b3c4b274a98b",
      "value": 1197275
     }
    },
    "d0989d5365074a989cb0c8ce81906e65": {
     "model_module": "@jupyter-widgets/base",
     "model_name": "LayoutModel",
     "state": {
      "_model_module": "@jupyter-widgets/base",
      "_model_module_version": "1.2.0",
      "_model_name": "LayoutModel",
      "_view_count": null,
      "_view_module": "@jupyter-widgets/base",
      "_view_module_version": "1.2.0",
      "_view_name": "LayoutView",
      "align_content": null,
      "align_items": null,
      "align_self": null,
      "border": null,
      "bottom": null,
      "display": null,
      "flex": null,
      "flex_flow": null,
      "grid_area": null,
      "grid_auto_columns": null,
      "grid_auto_flow": null,
      "grid_auto_rows": null,
      "grid_column": null,
      "grid_gap": null,
      "grid_row": null,
      "grid_template_areas": null,
      "grid_template_columns": null,
      "grid_template_rows": null,
      "height": null,
      "justify_content": null,
      "justify_items": null,
      "left": null,
      "margin": null,
      "max_height": null,
      "max_width": null,
      "min_height": null,
      "min_width": null,
      "object_fit": null,
      "object_position": null,
      "order": null,
      "overflow": null,
      "overflow_x": null,
      "overflow_y": null,
      "padding": null,
      "right": null,
      "top": null,
      "visibility": null,
      "width": null
     }
    },
    "f843ea11409d49718871b3c4b274a98b": {
     "model_module": "@jupyter-widgets/controls",
     "model_name": "ProgressStyleModel",
     "state": {
      "_model_module": "@jupyter-widgets/controls",
      "_model_module_version": "1.5.0",
      "_model_name": "ProgressStyleModel",
      "_view_count": null,
      "_view_module": "@jupyter-widgets/base",
      "_view_module_version": "1.2.0",
      "_view_name": "StyleView",
      "bar_color": null,
      "description_width": ""
     }
    }
   }
  }
 },
 "nbformat": 4,
 "nbformat_minor": 1
}

{
 "cells": [
  {
   "cell_type": "markdown",
   "metadata": {},
   "source": [
    "# Классификация MNIST сверточной сетью"
   ]
  },
  {
   "cell_type": "code",
   "execution_count": 1,
   "metadata": {},
   "outputs": [],
   "source": [
    "%matplotlib inline\n",
    "import matplotlib.pyplot as plt\n",
    "import cv2\n",
    "import numpy as np\n",
    "from tensorflow import keras"
   ]
  },
  {
   "cell_type": "code",
   "execution_count": 3,
   "metadata": {},
   "outputs": [],
   "source": [
    "train = np.loadtxt('F:/DS/Комьютерное зрение/day5/data/train.csv', delimiter=',', skiprows=1)\n",
    "test = np.loadtxt('F:/DS/Комьютерное зрение/day5/data/test.csv', delimiter=',', skiprows=1)"
   ]
  },
  {
   "cell_type": "code",
   "execution_count": 4,
   "metadata": {},
   "outputs": [],
   "source": [
    "# сохраняем разметку в отдельную переменную\n",
    "train_label = train[:, 0]\n",
    "\n",
    "# приводим размерность к удобному для обаботки виду\n",
    "# добавляем размерность канала\n",
    "train_img = np.resize(train[:, 1:], (train.shape[0], 28, 28, 1))\n",
    "test_img = np.resize(test, (test.shape[0], 28, 28, 1))"
   ]
  },
  {
   "cell_type": "markdown",
   "metadata": {},
   "source": [
    "## Визуализируем исходные данные"
   ]
  },
  {
   "cell_type": "code",
   "execution_count": 6,
   "metadata": {},
   "outputs": [
    {
     "data": {
      "image/png": "[encoded data removed]",
      "text/plain": [
       "<Figure size 1440x720 with 10 Axes>"
      ]
     },
     "metadata": {
      "needs_background": "light"
     },
     "output_type": "display_data"
    }
   ],
   "source": [
    "fig = plt.figure(figsize=(20, 10))\n",
    "for i, img in enumerate(train_img[0:10, :], 1):\n",
    "    subplot = fig.add_subplot(1, 10, i)\n",
    "    plt.imshow(img[:,:,0], cmap='gray');\n",
    "    subplot.set_title('%s' % train_label[i - 1]);"
   ]
  },
  {
   "cell_type": "markdown",
   "metadata": {},
   "source": [
    "## Разбиваем выборку на обучение и валидацию"
   ]
  },
  {
   "cell_type": "code",
   "execution_count": 7,
   "metadata": {},
   "outputs": [],
   "source": [
    "from sklearn.model_selection import train_test_split\n",
    "y_train, y_val, x_train, x_val = train_test_split(\n",
    "    train_label, train_img, test_size=0.2, random_state=42)"
   ]
  },
  {
   "cell_type": "code",
   "execution_count": 8,
   "metadata": {},
   "outputs": [],
   "source": [
    "#задаем адам вручную с имзенеием параметров"
   ]
  },
  {
   "cell_type": "code",
   "execution_count": 9,
   "metadata": {},
   "outputs": [
    {
     "name": "stderr",
     "output_type": "stream",
     "text": [
      "Using TensorFlow backend.\n"
     ]
    }
   ],
   "source": [
    "from keras.optimizers import Adam\n"
   ]
  },
  {
   "cell_type": "code",
   "execution_count": 10,
   "metadata": {},
   "outputs": [],
   "source": [
    "optimizer = Adam(lr=0.01)"
   ]
  },
  {
   "cell_type": "markdown",
   "metadata": {},
   "source": [
    "## Собираем сверточную сеть для обучения"
   ]
  },
  {
   "cell_type": "code",
   "execution_count": 11,
   "metadata": {},
   "outputs": [
    {
     "name": "stdout",
     "output_type": "stream",
     "text": [
      "WARNING:tensorflow:From F:\\Anaconda3\\lib\\site-packages\\tensorflow_core\\python\\ops\\resource_variable_ops.py:1630: calling BaseResourceVariable.__init__ (from tensorflow.python.ops.resource_variable_ops) with constraint is deprecated and will be removed in a future version.\n",
      "Instructions for updating:\n",
      "If using Keras pass *_constraint arguments to layers.\n"
     ]
    }
   ],
   "source": [
    "seed = 123457 #для воспроизводимости результата\n",
    "kernek_initializer = keras.initializers.glorot_normal(seed=seed)#w нормальное респр(для Relud)\n",
    "#bias_initializer = keras.initializers.normal(stddev=1., seed=seed) #b\n",
    "\n",
    "model = keras.models.Sequential()\n",
    "\n",
    "model.add(keras.layers.Conv2D(6, #кол-во коналов(матриц) на выходе #светрка в 2д мерном случии\n",
    "                              kernel_size=(5, 5), \n",
    "                              padding='same', # сам задает пэддинг\n",
    "                              activation='relu', # функция активации\n",
    "                              input_shape=x_train.shape[1:], #входная размерность\n",
    "                              bias_initializer=None, #баис, b\n",
    "                              kernel_initializer=kernek_initializer)) # w\n",
    "\n",
    "model.add(keras.layers.MaxPool2D(pool_size=(2, 2), padding='valid'))#макс пулинг, понижаем размерность\n",
    "\n",
    "model.add(keras.layers.Conv2D(16, \n",
    "                              kernel_size=(5, 5),\n",
    "                              padding='valid',\n",
    "                              activation='relu', \n",
    "                              bias_initializer=None,\n",
    "                              kernel_initializer=kernek_initializer))\n",
    "\n",
    "model.add(keras.layers.MaxPool2D(pool_size=(2, 2), padding='valid'))\n",
    "\n",
    "model.add(keras.layers.Flatten()) #объеденияет матрицы в большой вектор\n",
    "#передаем вектор в полносвязные слои(Dense)\n",
    "model.add(keras.layers.Dense(32, activation='relu',\n",
    "                             bias_initializer=None,\n",
    "                             kernel_initializer=kernek_initializer))\n",
    "#на последнем слое кол-во выходов должно соответствовать кол-ву классов и исп spftmax\n",
    "model.add(keras.layers.Dense(10, activation='softmax',\n",
    "                             bias_initializer=None,\n",
    "                             kernel_initializer=kernek_initializer))\n",
    "#компиляция \n",
    "model.compile(optimizer='adam',\n",
    "              loss='categorical_crossentropy',\n",
    "              metrics=['accuracy'])"
   ]
  },
  {
   "cell_type": "markdown",
   "metadata": {},
   "source": [
    "## Выводим информацию о модели"
   ]
  },
  {
   "cell_type": "code",
   "execution_count": 12,
   "metadata": {},
   "outputs": [
    {
     "name": "stdout",
     "output_type": "stream",
     "text": [
      "Model: \"sequential\"\n",
      "_________________________________________________________________\n",
      "Layer (type)                 Output Shape              Param #   \n",
      "=================================================================\n",
      "conv2d (Conv2D)              (None, 28, 28, 6)         156       \n",
      "_________________________________________________________________\n",
      "max_pooling2d (MaxPooling2D) (None, 14, 14, 6)         0         \n",
      "_________________________________________________________________\n",
      "conv2d_1 (Conv2D)            (None, 10, 10, 16)        2416      \n",
      "_________________________________________________________________\n",
      "max_pooling2d_1 (MaxPooling2 (None, 5, 5, 16)          0         \n",
      "_________________________________________________________________\n",
      "flatten (Flatten)            (None, 400)               0         \n",
      "_________________________________________________________________\n",
      "dense (Dense)                (None, 32)                12832     \n",
      "_________________________________________________________________\n",
      "dense_1 (Dense)              (None, 10)                330       \n",
      "=================================================================\n",
      "Total params: 15,734\n",
      "Trainable params: 15,734\n",
      "Non-trainable params: 0\n",
      "_________________________________________________________________\n"
     ]
    }
   ],
   "source": [
    "model.summary() #5*5*6+6=156"
   ]
  },
  {
   "cell_type": "markdown",
   "metadata": {},
   "source": [
    "## One hot encoding разметки"
   ]
  },
  {
   "cell_type": "code",
   "execution_count": 13,
   "metadata": {},
   "outputs": [],
   "source": [
    "y_train_labels = keras.utils.to_categorical(y_train)"
   ]
  },
  {
   "cell_type": "code",
   "execution_count": 14,
   "metadata": {},
   "outputs": [
    {
     "data": {
      "text/plain": [
       "array([6., 5., 3., 4., 7., 8., 6., 7., 0., 9.])"
      ]
     },
     "execution_count": 14,
     "metadata": {},
     "output_type": "execute_result"
    }
   ],
   "source": [
    "y_train[:10]"
   ]
  },
  {
   "cell_type": "code",
   "execution_count": 15,
   "metadata": {},
   "outputs": [
    {
     "data": {
      "text/plain": [
       "array([[0., 0., 0., 0., 0., 0., 1., 0., 0., 0.],\n",
       "       [0., 0., 0., 0., 0., 1., 0., 0., 0., 0.],\n",
       "       [0., 0., 0., 1., 0., 0., 0., 0., 0., 0.],\n",
       "       [0., 0., 0., 0., 1., 0., 0., 0., 0., 0.],\n",
       "       [0., 0., 0., 0., 0., 0., 0., 1., 0., 0.],\n",
       "       [0., 0., 0., 0., 0., 0., 0., 0., 1., 0.],\n",
       "       [0., 0., 0., 0., 0., 0., 1., 0., 0., 0.],\n",
       "       [0., 0., 0., 0., 0., 0., 0., 1., 0., 0.],\n",
       "       [1., 0., 0., 0., 0., 0., 0., 0., 0., 0.],\n",
       "       [0., 0., 0., 0., 0., 0., 0., 0., 0., 1.]], dtype=float32)"
      ]
     },
     "execution_count": 15,
     "metadata": {},
     "output_type": "execute_result"
    }
   ],
   "source": [
    "y_train_labels[:10]"
   ]
  },
  {
   "cell_type": "markdown",
   "metadata": {},
   "source": [
    "## Запускаем обучение"
   ]
  },
  {
   "cell_type": "code",
   "execution_count": 16,
   "metadata": {},
   "outputs": [
    {
     "name": "stdout",
     "output_type": "stream",
     "text": [
      "Train on 26880 samples, validate on 6720 samples\n",
      "Epoch 1/10\n",
      "26880/26880 [==============================] - 8s 310us/sample - loss: 0.8783 - acc: 0.7837 - val_loss: 0.2303 - val_acc: 0.9345\n",
      "Epoch 2/10\n",
      "26880/26880 [==============================] - 8s 302us/sample - loss: 0.1638 - acc: 0.9528 - val_loss: 0.1454 - val_acc: 0.9600\n",
      "Epoch 3/10\n",
      "26880/26880 [==============================] - 8s 301us/sample - loss: 0.1012 - acc: 0.9695 - val_loss: 0.1364 - val_acc: 0.9625\n",
      "Epoch 4/10\n",
      "26880/26880 [==============================] - 8s 299us/sample - loss: 0.0774 - acc: 0.9764 - val_loss: 0.1127 - val_acc: 0.9688\n",
      "Epoch 5/10\n",
      "26880/26880 [==============================] - 9s 317us/sample - loss: 0.0628 - acc: 0.9807 - val_loss: 0.1336 - val_acc: 0.9662\n",
      "Epoch 6/10\n",
      "26880/26880 [==============================] - 9s 317us/sample - loss: 0.0572 - acc: 0.9825 - val_loss: 0.1090 - val_acc: 0.9744\n",
      "Epoch 7/10\n",
      "26880/26880 [==============================] - 8s 316us/sample - loss: 0.0543 - acc: 0.9830 - val_loss: 0.1088 - val_acc: 0.9740\n",
      "Epoch 8/10\n",
      "26880/26880 [==============================] - 8s 302us/sample - loss: 0.0491 - acc: 0.9845 - val_loss: 0.1194 - val_acc: 0.9717\n",
      "Epoch 9/10\n",
      "26880/26880 [==============================] - 8s 304us/sample - loss: 0.0369 - acc: 0.9887 - val_loss: 0.1149 - val_acc: 0.9719\n",
      "Epoch 10/10\n",
      "26880/26880 [==============================] - 8s 303us/sample - loss: 0.0385 - acc: 0.9876 - val_loss: 0.1199 - val_acc: 0.9753\n"
     ]
    },
    {
     "data": {
      "text/plain": [
       "<tensorflow.python.keras.callbacks.History at 0x1b940e2feb8>"
      ]
     },
     "execution_count": 16,
     "metadata": {},
     "output_type": "execute_result"
    }
   ],
   "source": [
    "model.fit(x_train, \n",
    "          y_train_labels,\n",
    "          batch_size=32, #размер выборки(32 изображения 2^x)\n",
    "          epochs=10, #кол-во эпох\n",
    "          validation_split=0.2)"
   ]
  },
  {
   "cell_type": "markdown",
   "metadata": {},
   "source": [
    "## Предсказываем класс объекта"
   ]
  },
  {
   "cell_type": "code",
   "execution_count": 17,
   "metadata": {},
   "outputs": [],
   "source": [
    "pred_val = model.predict_classes(x_val)"
   ]
  },
  {
   "cell_type": "code",
   "execution_count": 18,
   "metadata": {},
   "outputs": [
    {
     "data": {
      "text/plain": [
       "array([8, 1, 9, 9, 8, 6, 2, 2, 7, 1], dtype=int64)"
      ]
     },
     "execution_count": 18,
     "metadata": {},
     "output_type": "execute_result"
    }
   ],
   "source": [
    "pred_val[:10]"
   ]
  },
  {
   "cell_type": "markdown",
   "metadata": {},
   "source": [
    "## Оцениваем качество решение на валидационной выборке"
   ]
  },
  {
   "cell_type": "code",
   "execution_count": 19,
   "metadata": {},
   "outputs": [
    {
     "name": "stdout",
     "output_type": "stream",
     "text": [
      "Accuracy: 0.975\n"
     ]
    }
   ],
   "source": [
    "from sklearn.metrics import accuracy_score\n",
    "print('Accuracy: %s' % accuracy_score(y_val, pred_val))"
   ]
  },
  {
   "cell_type": "code",
   "execution_count": 20,
   "metadata": {},
   "outputs": [
    {
     "name": "stdout",
     "output_type": "stream",
     "text": [
      "              precision    recall  f1-score   support\n",
      "\n",
      "         0.0       0.98      0.99      0.99       816\n",
      "         1.0       0.99      0.99      0.99       909\n",
      "         2.0       0.97      0.97      0.97       846\n",
      "         3.0       1.00      0.94      0.97       937\n",
      "         4.0       0.97      0.98      0.97       839\n",
      "         5.0       0.96      0.98      0.97       702\n",
      "         6.0       0.99      0.98      0.99       785\n",
      "         7.0       0.96      0.98      0.97       893\n",
      "         8.0       0.98      0.95      0.96       835\n",
      "         9.0       0.95      0.98      0.97       838\n",
      "\n",
      "    accuracy                           0.97      8400\n",
      "   macro avg       0.97      0.98      0.98      8400\n",
      "weighted avg       0.98      0.97      0.97      8400\n",
      "\n"
     ]
    }
   ],
   "source": [
    "from sklearn.metrics import classification_report\n",
    "print(classification_report(y_val, pred_val))"
   ]
  },
  {
   "cell_type": "code",
   "execution_count": 21,
   "metadata": {},
   "outputs": [
    {
     "name": "stdout",
     "output_type": "stream",
     "text": [
      "[[810   0   1   0   0   0   1   0   0   4]\n",
      " [  0 903   2   0   1   0   1   2   0   0]\n",
      " [  1   4 819   0   5   0   1   8   6   2]\n",
      " [  1   0   9 882   0  14   1  15   7   8]\n",
      " [  1   0   0   0 821   0   2   2   1  12]\n",
      " [  2   0   0   2   1 691   3   1   0   2]\n",
      " [  4   1   0   0   5   1 773   0   1   0]\n",
      " [  0   1  11   0   0   0   0 874   2   5]\n",
      " [  4   3   4   0   8   9   2   3 793   9]\n",
      " [  2   1   0   0   5   2   0   2   2 824]]\n"
     ]
    }
   ],
   "source": [
    "from sklearn.metrics import confusion_matrix\n",
    "print(confusion_matrix(y_val, pred_val))"
   ]
  },
  {
   "cell_type": "markdown",
   "metadata": {},
   "source": [
    "## Предсказания на тестовыйх данных"
   ]
  },
  {
   "cell_type": "code",
   "execution_count": 22,
   "metadata": {},
   "outputs": [],
   "source": [
    "pred_test = model.predict_classes(test_img)"
   ]
  },
  {
   "cell_type": "markdown",
   "metadata": {},
   "source": [
    "## Визуализируем предсказания"
   ]
  },
  {
   "cell_type": "code",
   "execution_count": 23,
   "metadata": {},
   "outputs": [
    {
     "data": {
      "image/png": "[encoded data removed]",
      "text/plain": [
       "<Figure size 1440x720 with 5 Axes>"
      ]
     },
     "metadata": {
      "needs_background": "light"
     },
     "output_type": "display_data"
    }
   ],
   "source": [
    "fig = plt.figure(figsize=(20, 10))\n",
    "indices = np.random.choice(range(len(test_img)), 5)\n",
    "img_prediction = zip(test_img[indices], pred_test[indices])\n",
    "for i, (img, pred) in enumerate(img_prediction, 1):\n",
    "    subplot = fig.add_subplot(1, 5, i)\n",
    "    plt.imshow(img[...,0], cmap='gray');\n",
    "    subplot.set_title('%d' % pred);"
   ]
  },
  {
   "cell_type": "markdown",
   "metadata": {},
   "source": [
    "## Готовим файл для отправки"
   ]
  },
  {
   "cell_type": "code",
   "execution_count": 34,
   "metadata": {},
   "outputs": [],
   "source": [
    "with open('submit.txt', 'w') as dst:\n",
    "    dst.write('ImageId,Label\\n')\n",
    "    for i, p in enumerate(pred_test, 1):\n",
    "        dst.write('%s,%d\\n' % (i, p))"
   ]
  },
  {
   "cell_type": "code",
   "execution_count": null,
   "metadata": {},
   "outputs": [],
   "source": [
    "# Your submission scored 0.96814"
   ]
  }
 ],
 "metadata": {
  "kernelspec": {
   "display_name": "Python 3",
   "language": "python",
   "name": "python3"
  },
  "language_info": {
   "codemirror_mode": {
    "name": "ipython",
    "version": 3
   },
   "file_extension": ".py",
   "mimetype": "text/x-python",
   "name": "python",
   "nbconvert_exporter": "python",
   "pygments_lexer": "ipython3",
   "version": "3.7.3"
  }
 },
 "nbformat": 4,
 "nbformat_minor": 2
}
